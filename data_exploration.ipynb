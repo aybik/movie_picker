{
 "cells": [
  {
   "cell_type": "code",
   "execution_count": 1,
   "metadata": {},
   "outputs": [],
   "source": [
    "import pandas as pd"
   ]
  },
  {
   "cell_type": "code",
   "execution_count": 25,
   "metadata": {},
   "outputs": [],
   "source": [
    "movies = pd.read_csv('raw_data/movies.csv')\n",
    "actors = pd.read_csv('raw_data/actors.csv')\n",
    "crew = pd.read_csv('raw_data/crew.csv')\n",
    "languages = pd.read_csv('raw_data/languages.csv')\n",
    "genres = pd.read_csv('raw_data/genres.csv')\n",
    "studios = pd.read_csv('raw_data/studios.csv')\n",
    "# themes = pd.read_csv('raw_data/themes.csv')\n",
    "# releases = pd.read_csv('raw_data/releases.csv')\n",
    "countries = pd.read_csv('raw_data/countries.csv')"
   ]
  },
  {
   "cell_type": "code",
   "execution_count": 26,
   "metadata": {},
   "outputs": [],
   "source": [
    "movies = movies.drop(columns='tagline', axis=1)"
   ]
  },
  {
   "cell_type": "code",
   "execution_count": 27,
   "metadata": {},
   "outputs": [],
   "source": [
    "actors = actors.drop(columns='role', axis=1)\n",
    "actors = actors.dropna()"
   ]
  },
  {
   "cell_type": "code",
   "execution_count": 18,
   "metadata": {},
   "outputs": [
    {
     "data": {
      "text/plain": [
       "id      0\n",
       "role    0\n",
       "name    1\n",
       "dtype: int64"
      ]
     },
     "execution_count": 18,
     "metadata": {},
     "output_type": "execute_result"
    }
   ],
   "source": [
    "# crew.isnull().sum()\n",
    "# crew.role.unique()"
   ]
  },
  {
   "cell_type": "code",
   "execution_count": 28,
   "metadata": {},
   "outputs": [],
   "source": [
    "# movies.head()\n",
    "# id = 1000001\n",
    "# temp = crew[crew['id']==1000001]\n",
    "crew = crew[crew['role'].isin(['Director', 'Producer', 'Writer', 'Cinematography', 'Composer'])] #'Songs'\n",
    "#consider relabel those with small proportion to new category \"Others\"\n",
    "#embeddings make sense, but we will have little control\n",
    "#TODO: we check later how we deal with this feature!"
   ]
  },
  {
   "cell_type": "code",
   "execution_count": 41,
   "metadata": {},
   "outputs": [],
   "source": [
    "languages = languages[languages['type'].isin(['Language', 'Primary language'])].drop(columns='type')"
   ]
  },
  {
   "cell_type": "code",
   "execution_count": 7,
   "metadata": {},
   "outputs": [],
   "source": [
    "# genres.genre.unique() #OneHotEncoder"
   ]
  },
  {
   "cell_type": "code",
   "execution_count": null,
   "metadata": {},
   "outputs": [
    {
     "data": {
      "text/plain": [
       "studio\n",
       "BBC                      0.005241\n",
       "Warner Bros. Pictures    0.004743\n",
       "Columbia Pictures        0.004416\n",
       "ARTE                     0.004157\n",
       "Metro-Goldwyn-Mayer      0.004106\n",
       "                           ...   \n",
       "Island Creek Pictures    0.000001\n",
       "Extremo Sur Films        0.000001\n",
       "KHF Media                0.000001\n",
       "Kude Media               0.000001\n",
       "Cineploit Pictures       0.000001\n",
       "Name: count, Length: 160881, dtype: float64"
      ]
     },
     "execution_count": 50,
     "metadata": {},
     "output_type": "execute_result"
    }
   ],
   "source": [
    "# studios.studio.value_counts()/studios.studio.value_counts().sum()\n",
    "#consider relabel those with small proportion to new category \"Others\" or drop them\n",
    "#embeddings make sense, but we will have little control\n",
    "#TODO: we check later how we deal with this feature!"
   ]
  },
  {
   "cell_type": "code",
   "execution_count": null,
   "metadata": {},
   "outputs": [
    {
     "data": {
      "text/html": [
       "<div>\n",
       "<style scoped>\n",
       "    .dataframe tbody tr th:only-of-type {\n",
       "        vertical-align: middle;\n",
       "    }\n",
       "\n",
       "    .dataframe tbody tr th {\n",
       "        vertical-align: top;\n",
       "    }\n",
       "\n",
       "    .dataframe thead th {\n",
       "        text-align: right;\n",
       "    }\n",
       "</style>\n",
       "<table border=\"1\" class=\"dataframe\">\n",
       "  <thead>\n",
       "    <tr style=\"text-align: right;\">\n",
       "      <th></th>\n",
       "      <th>id</th>\n",
       "      <th>country</th>\n",
       "    </tr>\n",
       "  </thead>\n",
       "  <tbody>\n",
       "    <tr>\n",
       "      <th>0</th>\n",
       "      <td>1000001</td>\n",
       "      <td>UK</td>\n",
       "    </tr>\n",
       "    <tr>\n",
       "      <th>1</th>\n",
       "      <td>1000001</td>\n",
       "      <td>USA</td>\n",
       "    </tr>\n",
       "    <tr>\n",
       "      <th>2</th>\n",
       "      <td>1000002</td>\n",
       "      <td>South Korea</td>\n",
       "    </tr>\n",
       "    <tr>\n",
       "      <th>3</th>\n",
       "      <td>1000003</td>\n",
       "      <td>USA</td>\n",
       "    </tr>\n",
       "    <tr>\n",
       "      <th>4</th>\n",
       "      <td>1000004</td>\n",
       "      <td>Germany</td>\n",
       "    </tr>\n",
       "    <tr>\n",
       "      <th>...</th>\n",
       "      <td>...</td>\n",
       "      <td>...</td>\n",
       "    </tr>\n",
       "    <tr>\n",
       "      <th>693471</th>\n",
       "      <td>1941593</td>\n",
       "      <td>China</td>\n",
       "    </tr>\n",
       "    <tr>\n",
       "      <th>693472</th>\n",
       "      <td>1941594</td>\n",
       "      <td>USA</td>\n",
       "    </tr>\n",
       "    <tr>\n",
       "      <th>693473</th>\n",
       "      <td>1941595</td>\n",
       "      <td>USA</td>\n",
       "    </tr>\n",
       "    <tr>\n",
       "      <th>693474</th>\n",
       "      <td>1941596</td>\n",
       "      <td>China</td>\n",
       "    </tr>\n",
       "    <tr>\n",
       "      <th>693475</th>\n",
       "      <td>1941597</td>\n",
       "      <td>Japan</td>\n",
       "    </tr>\n",
       "  </tbody>\n",
       "</table>\n",
       "<p>693476 rows × 2 columns</p>\n",
       "</div>"
      ],
      "text/plain": [
       "             id      country\n",
       "0       1000001           UK\n",
       "1       1000001          USA\n",
       "2       1000002  South Korea\n",
       "3       1000003          USA\n",
       "4       1000004      Germany\n",
       "...         ...          ...\n",
       "693471  1941593        China\n",
       "693472  1941594          USA\n",
       "693473  1941595          USA\n",
       "693474  1941596        China\n",
       "693475  1941597        Japan\n",
       "\n",
       "[693476 rows x 2 columns]"
      ]
     },
     "execution_count": 8,
     "metadata": {},
     "output_type": "execute_result"
    }
   ],
   "source": [
    "# countries # categorical, high-cardinality, embeddings\n",
    "# countries # if we chose studios, this one can be left out due to collinearity"
   ]
  },
  {
   "cell_type": "code",
   "execution_count": 30,
   "metadata": {},
   "outputs": [
    {
     "name": "stderr",
     "output_type": "stream",
     "text": [
      "/tmp/ipykernel_52055/2434692008.py:3: DeprecationWarning: DataFrameGroupBy.apply operated on the grouping columns. This behavior is deprecated, and in a future version of pandas the grouping columns will be excluded from the operation. Either pass `include_groups=False` to exclude the groupings or explicitly select the grouping columns after groupby to silence this warning.\n",
      "  .apply(lambda x: x.groupby('role')['name'].apply(list).to_dict())\n"
     ]
    }
   ],
   "source": [
    "new_crew = (\n",
    "    crew.groupby('id')\n",
    "    .apply(lambda x: x.groupby('role')['name'].apply(list).to_dict())\n",
    "    .reset_index(name='crew_dict')\n",
    ")"
   ]
  },
  {
   "cell_type": "code",
   "execution_count": 33,
   "metadata": {},
   "outputs": [],
   "source": [
    "new_genres = (\n",
    "    genres.groupby('id')['genre']\n",
    "    .apply(list)  # Aggregates genres into a list\n",
    "    .reset_index(name='genre_list')  # Converts to DataFrame and renames the column\n",
    ")"
   ]
  },
  {
   "cell_type": "code",
   "execution_count": 34,
   "metadata": {},
   "outputs": [],
   "source": [
    "new_studios = (\n",
    "    studios.groupby('id')['studio']\n",
    "    .apply(list)  # Aggregates genres into a list\n",
    "    .reset_index(name='studio_list')  # Converts to DataFrame and renames the column\n",
    ")"
   ]
  },
  {
   "cell_type": "code",
   "execution_count": 35,
   "metadata": {},
   "outputs": [],
   "source": [
    "new_actors = (\n",
    "    actors.groupby('id')['name']\n",
    "    .apply(list)  # Aggregates genres into a list\n",
    "    .reset_index(name='actor_list')  # Converts to DataFrame and renames the column\n",
    ")"
   ]
  },
  {
   "cell_type": "code",
   "execution_count": 43,
   "metadata": {},
   "outputs": [],
   "source": [
    "data = movies.merge(new_genres, how='left', on='id').merge(new_actors, how='left', on='id').merge(languages, how='left', on='id').merge(new_studios, how='left', on='id').merge(new_crew, how='left', on='id')"
   ]
  },
  {
   "cell_type": "code",
   "execution_count": 47,
   "metadata": {},
   "outputs": [],
   "source": [
    "data.to_csv('compiled_movies.csv', index=False)"
   ]
  },
  {
   "cell_type": "code",
   "execution_count": null,
   "metadata": {},
   "outputs": [],
   "source": []
  },
  {
   "cell_type": "code",
   "execution_count": null,
   "metadata": {},
   "outputs": [],
   "source": [
    "genres['genre_list'] = genres.groupby('id')['genre'].apply(lambda x: ', '.join(x)).reset_index()\n",
    "# movies_with_genres = movies.merge(aggregated_genres, on='id', how='left')\n",
    "# Convert the genre strings into lists\n",
    "# genres['genre_list'] = genres['genre'].str.split(', ')\n",
    "# Handle missing values\n",
    "movies_with_genres['genre_list'] = movies_with_genres['genre_list'].apply(lambda x: x if isinstance(x, list) else [])\n",
    "movies_with_genres.drop(columns=\"genre\", axis=1, inplace=True)\n",
    "unique_genres = set([genre for sublist in movies_with_genres['genre_list'] for genre in sublist])\n",
    "unique_genres = sorted(list(unique_genres))\n",
    "print(unique_genres)\n",
    "for genre in unique_genres:\n",
    "    movies_with_genres[genre] = movies_with_genres['genre_list'].apply(lambda x: 1 if genre in x else 0)"
   ]
  },
  {
   "cell_type": "code",
   "execution_count": null,
   "metadata": {},
   "outputs": [],
   "source": [
    "data = movies.merge(actors, how='left', on='id').merge()"
   ]
  },
  {
   "cell_type": "markdown",
   "metadata": {},
   "source": [
    "# SUMMARY\n",
    "- import csv files\n",
    "- "
   ]
  },
  {
   "cell_type": "markdown",
   "metadata": {},
   "source": [
    "ADVISE: high-cardiality --> may make sense to drop the rare guys or not"
   ]
  },
  {
   "cell_type": "markdown",
   "metadata": {},
   "source": []
  }
 ],
 "metadata": {
  "kernelspec": {
   "display_name": "movie_picker",
   "language": "python",
   "name": "python3"
  },
  "language_info": {
   "codemirror_mode": {
    "name": "ipython",
    "version": 3
   },
   "file_extension": ".py",
   "mimetype": "text/x-python",
   "name": "python",
   "nbconvert_exporter": "python",
   "pygments_lexer": "ipython3",
   "version": "3.10.6"
  }
 },
 "nbformat": 4,
 "nbformat_minor": 2
}

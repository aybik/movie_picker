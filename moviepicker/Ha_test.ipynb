{
 "cells": [
  {
   "cell_type": "code",
   "execution_count": 4,
   "metadata": {},
   "outputs": [
    {
     "name": "stderr",
     "output_type": "stream",
     "text": [
      "2025-02-05 12:49:31.520794: I tensorflow/core/util/port.cc:153] oneDNN custom operations are on. You may see slightly different numerical results due to floating-point round-off errors from different computation orders. To turn them off, set the environment variable `TF_ENABLE_ONEDNN_OPTS=0`.\n",
      "2025-02-05 12:49:31.525068: I external/local_xla/xla/tsl/cuda/cudart_stub.cc:32] Could not find cuda drivers on your machine, GPU will not be used.\n",
      "2025-02-05 12:49:31.540605: I external/local_xla/xla/tsl/cuda/cudart_stub.cc:32] Could not find cuda drivers on your machine, GPU will not be used.\n",
      "2025-02-05 12:49:31.564327: E external/local_xla/xla/stream_executor/cuda/cuda_fft.cc:477] Unable to register cuFFT factory: Attempting to register factory for plugin cuFFT when one has already been registered\n",
      "WARNING: All log messages before absl::InitializeLog() is called are written to STDERR\n",
      "E0000 00:00:1738756171.585399   99881 cuda_dnn.cc:8310] Unable to register cuDNN factory: Attempting to register factory for plugin cuDNN when one has already been registered\n",
      "E0000 00:00:1738756171.592049   99881 cuda_blas.cc:1418] Unable to register cuBLAS factory: Attempting to register factory for plugin cuBLAS when one has already been registered\n",
      "2025-02-05 12:49:31.631676: I tensorflow/core/platform/cpu_feature_guard.cc:210] This TensorFlow binary is optimized to use available CPU instructions in performance-critical operations.\n",
      "To enable the following instructions: AVX2 AVX512F AVX512_VNNI AVX512_BF16 FMA, in other operations, rebuild TensorFlow with the appropriate compiler flags.\n"
     ]
    }
   ],
   "source": [
    "from ml_logic.advanced_model import *"
   ]
  },
  {
   "cell_type": "code",
   "execution_count": 5,
   "metadata": {},
   "outputs": [
    {
     "name": "stderr",
     "output_type": "stream",
     "text": [
      "W0000 00:00:1738756195.218442   99881 gpu_device.cc:2344] Cannot dlopen some GPU libraries. Please make sure the missing libraries mentioned above are installed properly if you would like to use GPU. Follow the guide at https://www.tensorflow.org/install/gpu for how to download and setup the required libraries for your platform.\n",
      "Skipping registering GPU devices...\n"
     ]
    }
   ],
   "source": [
    "from tensorflow.keras.models import load_model\n",
    "encoder_model = load_model(\"models/encoder_model.keras\")"
   ]
  },
  {
   "cell_type": "code",
   "execution_count": 10,
   "metadata": {},
   "outputs": [],
   "source": [
    "import os\n",
    "import pickle\n",
    "parent_dir = os.path.dirname(os.getcwd())"
   ]
  },
  {
   "cell_type": "code",
   "execution_count": 11,
   "metadata": {},
   "outputs": [
    {
     "data": {
      "text/plain": [
       "['Alice in Earnestland (2015)',\n",
       " 'Nice Shorts (2009)',\n",
       " 'Lucky Monster (2019)',\n",
       " 'Coin Locker Girl (2015)',\n",
       " 'Running Turtle (2009)']"
      ]
     },
     "execution_count": 11,
     "metadata": {},
     "output_type": "execute_result"
    }
   ],
   "source": [
    "with open(os.path.join(parent_dir,\"moviepicker/models/latent_embeddings.pkl\"), \"rb\") as f:\n",
    "    latent_embeddings = pickle.load(f)\n",
    "\n",
    "with open(os.path.join(parent_dir,\"moviepicker/models/knn_20.pkl\"), \"rb\") as f:\n",
    "    knn_20 = pickle.load(f)\n",
    "\n",
    "import pandas as pd\n",
    "data = pd.read_pickle(\"streamlit.pkl\")\n",
    "data.head()\n",
    "\n",
    "data = pd.read_pickle(os.path.join(parent_dir,\"moviepicker/ml_logic/data_encode.pkl\"))\n",
    "\n",
    "result = get_movie_recommendations('Parasite (2019)', data, knn_20, latent_embeddings)\n",
    "result"
   ]
  },
  {
   "cell_type": "code",
   "execution_count": 12,
   "metadata": {},
   "outputs": [],
   "source": [
    "from tensorflow.keras.models import load_model\n",
    "encoder_model = load_model(\"models/encoder_trained.keras\")\n",
    "\n",
    "with open(os.path.join(parent_dir,\"moviepicker/models/vectorizer.pkl\"), \"rb\") as f:\n",
    "    vectorizer = pickle.load(f)"
   ]
  },
  {
   "cell_type": "code",
   "execution_count": 14,
   "metadata": {},
   "outputs": [
    {
     "name": "stdout",
     "output_type": "stream",
     "text": [
      "\u001b[1m1/1\u001b[0m \u001b[32m━━━━━━━━━━━━━━━━━━━━\u001b[0m\u001b[37m\u001b[0m \u001b[1m0s\u001b[0m 80ms/step\n"
     ]
    },
    {
     "data": {
      "text/plain": [
       "['Lahoriye',\n",
       " 'The Last Ashes',\n",
       " 'Kodama Simham',\n",
       " 'Jatt & Juliet 2',\n",
       " 'PHD - Pyaar Hai Drama']"
      ]
     },
     "execution_count": 14,
     "metadata": {},
     "output_type": "execute_result"
    }
   ],
   "source": [
    "user_description = 'people love'\n",
    "user_language = 'English'\n",
    "user_genres = ['action']\n",
    "result = recommend_movies_by_details(user_description, user_language, user_genres, data, encoder_model, knn_20, vectorizer)\n",
    "result"
   ]
  },
  {
   "cell_type": "code",
   "execution_count": 16,
   "metadata": {},
   "outputs": [],
   "source": [
    "import os\n",
    "import pickle\n",
    "parent_dir = os.path.dirname(os.getcwd())\n",
    "data = pd.read_pickle(os.path.join(parent_dir,\"moviepicker/ml_logic/data_encode.pkl\"))"
   ]
  },
  {
   "cell_type": "code",
   "execution_count": 18,
   "metadata": {},
   "outputs": [
    {
     "data": {
      "text/html": [
       "<div>\n",
       "<style scoped>\n",
       "    .dataframe tbody tr th:only-of-type {\n",
       "        vertical-align: middle;\n",
       "    }\n",
       "\n",
       "    .dataframe tbody tr th {\n",
       "        vertical-align: top;\n",
       "    }\n",
       "\n",
       "    .dataframe thead th {\n",
       "        text-align: right;\n",
       "    }\n",
       "</style>\n",
       "<table border=\"1\" class=\"dataframe\">\n",
       "  <thead>\n",
       "    <tr style=\"text-align: right;\">\n",
       "      <th></th>\n",
       "      <th>id</th>\n",
       "      <th>name</th>\n",
       "      <th>year</th>\n",
       "      <th>description</th>\n",
       "      <th>minute</th>\n",
       "      <th>rating</th>\n",
       "      <th>key</th>\n",
       "      <th>genre_list</th>\n",
       "      <th>actor_list</th>\n",
       "      <th>language</th>\n",
       "      <th>...</th>\n",
       "      <th>science_fiction</th>\n",
       "      <th>thriller</th>\n",
       "      <th>tv_movie</th>\n",
       "      <th>war</th>\n",
       "      <th>western</th>\n",
       "      <th>language_encoded</th>\n",
       "      <th>director</th>\n",
       "      <th>writer</th>\n",
       "      <th>cinematography</th>\n",
       "      <th>composer</th>\n",
       "    </tr>\n",
       "  </thead>\n",
       "  <tbody>\n",
       "    <tr>\n",
       "      <th>0</th>\n",
       "      <td>1000001</td>\n",
       "      <td>Barbie</td>\n",
       "      <td>0.514286</td>\n",
       "      <td>barbie ken time live colorful seemingly perfec...</td>\n",
       "      <td>0.366834</td>\n",
       "      <td>3.86</td>\n",
       "      <td>Barbie (2023)</td>\n",
       "      <td>comedy adventure</td>\n",
       "      <td>[Margot Robbie, Ryan Gosling, America Ferrera,...</td>\n",
       "      <td>English</td>\n",
       "      <td>...</td>\n",
       "      <td>0</td>\n",
       "      <td>0</td>\n",
       "      <td>0</td>\n",
       "      <td>0</td>\n",
       "      <td>0</td>\n",
       "      <td>37</td>\n",
       "      <td>[Greta Gerwig]</td>\n",
       "      <td>[Noah Baumbach, Greta Gerwig]</td>\n",
       "      <td>[Rodrigo Prieto]</td>\n",
       "      <td>[Mark Ronson, Andrew Wyatt]</td>\n",
       "    </tr>\n",
       "  </tbody>\n",
       "</table>\n",
       "<p>1 rows × 39 columns</p>\n",
       "</div>"
      ],
      "text/plain": [
       "        id    name      year  \\\n",
       "0  1000001  Barbie  0.514286   \n",
       "\n",
       "                                         description    minute  rating  \\\n",
       "0  barbie ken time live colorful seemingly perfec...  0.366834    3.86   \n",
       "\n",
       "             key        genre_list  \\\n",
       "0  Barbie (2023)  comedy adventure   \n",
       "\n",
       "                                          actor_list language  ...  \\\n",
       "0  [Margot Robbie, Ryan Gosling, America Ferrera,...  English  ...   \n",
       "\n",
       "  science_fiction thriller  tv_movie  war  western  language_encoded  \\\n",
       "0               0        0         0    0        0                37   \n",
       "\n",
       "         director                         writer    cinematography  \\\n",
       "0  [Greta Gerwig]  [Noah Baumbach, Greta Gerwig]  [Rodrigo Prieto]   \n",
       "\n",
       "                      composer  \n",
       "0  [Mark Ronson, Andrew Wyatt]  \n",
       "\n",
       "[1 rows x 39 columns]"
      ]
     },
     "execution_count": 18,
     "metadata": {},
     "output_type": "execute_result"
    }
   ],
   "source": [
    "data.head(1)"
   ]
  },
  {
   "cell_type": "code",
   "execution_count": null,
   "metadata": {},
   "outputs": [],
   "source": [
    "    find_params = {\n",
    "    \"input_name\": input,\n",
    "    \"dataset_choice\" : \"final\"\n",
    "    }\n",
    "\n",
    "    find_response = requests.get(url1, params=find_params)"
   ]
  }
 ],
 "metadata": {
  "kernelspec": {
   "display_name": "movie_picker",
   "language": "python",
   "name": "python3"
  },
  "language_info": {
   "codemirror_mode": {
    "name": "ipython",
    "version": 3
   },
   "file_extension": ".py",
   "mimetype": "text/x-python",
   "name": "python",
   "nbconvert_exporter": "python",
   "pygments_lexer": "ipython3",
   "version": "3.10.6"
  }
 },
 "nbformat": 4,
 "nbformat_minor": 2
}

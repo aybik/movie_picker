{
 "cells": [
  {
   "cell_type": "code",
   "execution_count": 1,
   "metadata": {},
   "outputs": [],
   "source": [
    "import pandas as pd\n",
    "import os\n",
    "from data import *"
   ]
  },
  {
   "cell_type": "code",
   "execution_count": 2,
   "metadata": {},
   "outputs": [
    {
     "name": "stderr",
     "output_type": "stream",
     "text": [
      "/home/duonghaxuyen/code/aybik/movie_picker/moviepicker/ml_logic/data.py:87: FutureWarning: DataFrame.applymap has been deprecated. Use DataFrame.map instead.\n",
      "  data[[\"actor_list\", \"studio_list\"]] = data[[\"actor_list\", \"studio_list\"]].applymap(lambda x: x if isinstance(x, list) else [])\n"
     ]
    }
   ],
   "source": [
    "data = get_set_a()"
   ]
  },
  {
   "cell_type": "code",
   "execution_count": 3,
   "metadata": {},
   "outputs": [
    {
     "data": {
      "text/plain": [
       "(406445, 30)"
      ]
     },
     "execution_count": 3,
     "metadata": {},
     "output_type": "execute_result"
    }
   ],
   "source": [
    "data.shape"
   ]
  },
  {
   "cell_type": "code",
   "execution_count": 4,
   "metadata": {},
   "outputs": [
    {
     "data": {
      "text/plain": [
       "id                  0\n",
       "name                0\n",
       "year                0\n",
       "description         0\n",
       "minute              0\n",
       "rating         331222\n",
       "key                 0\n",
       "genre_list      58929\n",
       "actor_list     177893\n",
       "language         5412\n",
       "studio_list    157297\n",
       "crew_dict       38988\n",
       "dtype: int64"
      ]
     },
     "execution_count": 4,
     "metadata": {},
     "output_type": "execute_result"
    }
   ],
   "source": [
    "data.isnull().sum()"
   ]
  },
  {
   "cell_type": "code",
   "execution_count": 8,
   "metadata": {},
   "outputs": [
    {
     "data": {
      "text/plain": [
       "0         [Margot Robbie, Ryan Gosling, America Ferrera,...\n",
       "1         [Song Kang-ho, Lee Sun-kyun, Cho Yeo-jeong, Ch...\n",
       "2         [Michelle Yeoh, Ke Huy Quan, Stephanie Hsu, Ja...\n",
       "3         [Edward Norton, Brad Pitt, Helena Bonham Carte...\n",
       "4         [Ryan Gosling, Emma Stone, John Legend, Rosema...\n",
       "                                ...                        \n",
       "406440                                                   []\n",
       "406441                                                   []\n",
       "406442                                                   []\n",
       "406443                                                   []\n",
       "406444                                                   []\n",
       "Name: actor_list, Length: 406445, dtype: object"
      ]
     },
     "execution_count": 8,
     "metadata": {},
     "output_type": "execute_result"
    }
   ],
   "source": [
    "data[\"actor_list\"].apply(lambda x: x if isinstance(x, list) else [])"
   ]
  },
  {
   "cell_type": "code",
   "execution_count": 12,
   "metadata": {},
   "outputs": [
    {
     "data": {
      "text/plain": [
       "{'Cinematography': ['Larkin Seiple'],\n",
       " 'Composer': ['Ryan Lott', 'Rafiq Bhatia', 'Ian Chang'],\n",
       " 'Director': ['Daniel Scheinert', 'Daniel Kwan'],\n",
       " 'Writer': ['Daniel Kwan', 'Daniel Scheinert']}"
      ]
     },
     "execution_count": 12,
     "metadata": {},
     "output_type": "execute_result"
    }
   ],
   "source": [
    "data.crew_dict[2]"
   ]
  },
  {
   "cell_type": "code",
   "execution_count": null,
   "metadata": {},
   "outputs": [],
   "source": []
  }
 ],
 "metadata": {
  "kernelspec": {
   "display_name": "movie_picker",
   "language": "python",
   "name": "python3"
  },
  "language_info": {
   "codemirror_mode": {
    "name": "ipython",
    "version": 3
   },
   "file_extension": ".py",
   "mimetype": "text/x-python",
   "name": "python",
   "nbconvert_exporter": "python",
   "pygments_lexer": "ipython3",
   "version": "3.10.6"
  }
 },
 "nbformat": 4,
 "nbformat_minor": 2
}

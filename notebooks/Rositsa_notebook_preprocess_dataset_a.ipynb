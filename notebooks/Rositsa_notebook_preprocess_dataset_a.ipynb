{
 "cells": [
  {
   "cell_type": "code",
   "execution_count": 5,
   "metadata": {},
   "outputs": [],
   "source": [
    "import os\n",
    "import pandas as pd"
   ]
  },
  {
   "cell_type": "code",
   "execution_count": 6,
   "metadata": {},
   "outputs": [],
   "source": [
    "current_dir = os.getcwd() #current dir\n",
    "parent_dir = os.path.dirname(current_dir) #parent of current dir"
   ]
  },
  {
   "cell_type": "markdown",
   "metadata": {},
   "source": [
    "### DATASET A"
   ]
  },
  {
   "cell_type": "code",
   "execution_count": 3,
   "metadata": {},
   "outputs": [],
   "source": [
    "# Dataset A:  https://www.kaggle.com/datasets/gsimonx37/letterboxd\n",
    "movies = pd.read_csv(os.path.join(parent_dir,'raw_data/set_a/movies.csv'))\n",
    "actors = pd.read_csv(os.path.join(parent_dir,'raw_data/set_a/actors.csv'))\n",
    "crew = pd.read_csv(os.path.join(parent_dir,'raw_data/set_a/crew.csv'))\n",
    "languages = pd.read_csv(os.path.join(parent_dir,'raw_data/set_a/languages.csv'))\n",
    "genres = pd.read_csv(os.path.join(parent_dir,'raw_data/set_a/genres.csv'))\n",
    "studios = pd.read_csv(os.path.join(parent_dir,'raw_data/set_a/studios.csv'))\n",
    "countries = pd.read_csv(os.path.join(parent_dir,'raw_data/set_a/countries.csv'))"
   ]
  },
  {
   "cell_type": "code",
   "execution_count": 5,
   "metadata": {},
   "outputs": [],
   "source": [
    "# Dropping the 'tagline' column from movies.csv\n",
    "movies = movies.drop(columns='tagline', axis=1)"
   ]
  },
  {
   "cell_type": "code",
   "execution_count": 6,
   "metadata": {},
   "outputs": [],
   "source": [
    "# Dropping the 'role' column and rows with NAN values from actors.csv\n",
    "actors = actors.drop(columns='role', axis=1)\n",
    "actors = actors.dropna()"
   ]
  },
  {
   "cell_type": "code",
   "execution_count": 8,
   "metadata": {},
   "outputs": [],
   "source": [
    "# Filtering the type of languages to be either 'Language' or 'Primary language' and dropping 'Spoken language'\n",
    "languages = languages[languages['type'].isin(['Language', 'Primary language'])].drop(columns='type')"
   ]
  },
  {
   "cell_type": "code",
   "execution_count": 7,
   "metadata": {},
   "outputs": [],
   "source": [
    "# Selecting crew members with specific roles, which are thought to be more significant to compress the amount of data\n",
    "crew = crew[crew['role'].isin(['Director', 'Writer', 'Cinematography', 'Composer'])]"
   ]
  },
  {
   "cell_type": "code",
   "execution_count": 9,
   "metadata": {},
   "outputs": [
    {
     "name": "stderr",
     "output_type": "stream",
     "text": [
      "/tmp/ipykernel_710727/1873594092.py:4: DeprecationWarning: DataFrameGroupBy.apply operated on the grouping columns. This behavior is deprecated, and in a future version of pandas the grouping columns will be excluded from the operation. Either pass `include_groups=False` to exclude the groupings or explicitly select the grouping columns after groupby to silence this warning.\n",
      "  .apply(lambda x: x.groupby('role')['name'].apply(list).to_dict())\n"
     ]
    }
   ],
   "source": [
    "# Creating dictionary for the crew, where keys are the roles and values are the names of people\n",
    "new_crew = (\n",
    "    crew.groupby('id')\n",
    "    .apply(lambda x: x.groupby('role')['name'].apply(list).to_dict())\n",
    "    .reset_index(name='crew_dict')\n",
    ")"
   ]
  },
  {
   "cell_type": "code",
   "execution_count": 69,
   "metadata": {},
   "outputs": [],
   "source": [
    "# Aggregating the genre types for each movie into a list\n",
    "new_genres = (\n",
    "    genres.assign(genre=genres['genre'].str.lower().str.replace(' ', '_'))  # Replace spaces within genres with underscores\n",
    "    .groupby('id')['genre']\n",
    "    .apply(' '.join)  # Aggregates genres into a single string\n",
    "    .reset_index(name='genre_list')  # Converts to DataFrame and renames the column\n",
    ")\n",
    "\n",
    "# Aggregating the studios that worked on a single movie into a list\n",
    "new_studios = (\n",
    "    studios.groupby('id')['studio']\n",
    "    .apply(list)  # Aggregates the studios into a list\n",
    "    .reset_index(name='studio_list')  # Converts to DataFrame and renames the column\n",
    ")\n",
    "\n",
    "# Aggregating the actors for each movie in a list\n",
    "new_actors = (\n",
    "    actors.groupby('id')['name']\n",
    "    .apply(list)  # Aggregates actors' names into a list\n",
    "    .reset_index(name='actor_list')  # Converts to DataFrame and renames the column\n",
    ")"
   ]
  },
  {
   "cell_type": "code",
   "execution_count": 70,
   "metadata": {},
   "outputs": [],
   "source": [
    "# Merging all the dataframes created from the csv files from Dataset A:  https://www.kaggle.com/datasets/gsimonx37/letterboxd into one dataframe\n",
    "data = movies\\\n",
    "    .merge(new_genres, how='left', on='id')\\\n",
    "    .merge(new_actors, how='left', on='id')\\\n",
    "    .merge(languages, how='left', on='id')\\\n",
    "    .merge(new_studios, how='left', on='id')\\\n",
    "    .merge(new_crew, how='left', on='id')"
   ]
  },
  {
   "cell_type": "code",
   "execution_count": 71,
   "metadata": {},
   "outputs": [],
   "source": [
    "# CLEANUP A\n",
    "data = data.dropna(subset=['date'])\n",
    "data['date'] = data['date'].astype(int)\n",
    "data = data.loc[data['name'] != 'Untitled'] #to be completed\n",
    "data = data.loc[data['date'] <= 2024]"
   ]
  },
  {
   "cell_type": "code",
   "execution_count": 72,
   "metadata": {},
   "outputs": [],
   "source": [
    "data['key_b'] = data['name'] + data['date'].apply(\n",
    "    lambda x: f\" ({int(x)})\" if not pd.isna(x) else ''\n",
    "    )"
   ]
  },
  {
   "cell_type": "code",
   "execution_count": 73,
   "metadata": {},
   "outputs": [],
   "source": [
    "check_data = data.groupby('key_b').size().reset_index(name='frequency').sort_values(by='frequency', ascending=False)"
   ]
  },
  {
   "cell_type": "code",
   "execution_count": 74,
   "metadata": {},
   "outputs": [],
   "source": [
    "unique_keys = data['key_b'].value_counts()  # Count occurrences\n",
    "unique_keys = unique_keys[unique_keys == 1].index  # Keep only keys with frequency 1\n",
    "data = data[data['key_b'].isin(unique_keys)] # Filter rows where key_b is unique"
   ]
  },
  {
   "cell_type": "code",
   "execution_count": 75,
   "metadata": {},
   "outputs": [],
   "source": [
    "del unique_keys"
   ]
  },
  {
   "cell_type": "code",
   "execution_count": 76,
   "metadata": {},
   "outputs": [],
   "source": [
    "# Saving the new dataframe to a csv file\n",
    "data.to_csv(os.path.join(parent_dir,'compiled_movies.csv'), index=False)"
   ]
  },
  {
   "cell_type": "code",
   "execution_count": 77,
   "metadata": {},
   "outputs": [],
   "source": [
    "data = pd.read_csv(os.path.join(parent_dir,'compiled_movies.csv'))"
   ]
  },
  {
   "cell_type": "code",
   "execution_count": 128,
   "metadata": {},
   "outputs": [],
   "source": [
    "clean_up_data = data.copy()"
   ]
  },
  {
   "cell_type": "code",
   "execution_count": 129,
   "metadata": {},
   "outputs": [],
   "source": [
    "clean_up_data = clean_up_data.dropna(subset='crew_dict')\n",
    "clean_up_data = clean_up_data.drop(columns=['studio_list', 'rating'])\n",
    "clean_up_data = clean_up_data.dropna()"
   ]
  },
  {
   "cell_type": "code",
   "execution_count": 130,
   "metadata": {},
   "outputs": [],
   "source": [
    "clean_up_data = clean_up_data.drop(columns=['id'], axis=1)\n",
    "\n",
    "clean_up_data['minute'] = clean_up_data['minute'].astype(int)\n",
    "clean_up_data['date'] = clean_up_data['date'].astype(int)\n",
    "\n",
    "clean_up_data = clean_up_data[(clean_up_data.minute > 40) & (clean_up_data.minute <= 240)]"
   ]
  },
  {
   "cell_type": "code",
   "execution_count": 132,
   "metadata": {},
   "outputs": [],
   "source": [
    "clean_up_data.to_csv(os.path.join(parent_dir,'clean_compile.csv'), index=False)"
   ]
  },
  {
   "cell_type": "code",
   "execution_count": 7,
   "metadata": {},
   "outputs": [],
   "source": [
    "clean_up_data = pd.read_csv(os.path.join(parent_dir,'clean_compile.csv'))"
   ]
  },
  {
   "cell_type": "code",
   "execution_count": 83,
   "metadata": {},
   "outputs": [
    {
     "data": {
      "image/png": "[encoded data removed]",
      "text/plain": [
       "<Figure size 1000x700 with 1 Axes>"
      ]
     },
     "metadata": {},
     "output_type": "display_data"
    }
   ],
   "source": [
    "# Import libraries\n",
    "import matplotlib.pyplot as plt\n",
    "import numpy as np\n",
    "\n",
    "fig = plt.figure(figsize =(10, 7))\n",
    "\n",
    "# Creating plot\n",
    "plt.hist(clean_up_data['minute'])\n",
    "\n",
    "# show plot\n",
    "plt.show()\n"
   ]
  },
  {
   "cell_type": "code",
   "execution_count": 88,
   "metadata": {},
   "outputs": [
    {
     "data": {
      "text/html": [
       "<div>\n",
       "<style scoped>\n",
       "    .dataframe tbody tr th:only-of-type {\n",
       "        vertical-align: middle;\n",
       "    }\n",
       "\n",
       "    .dataframe tbody tr th {\n",
       "        vertical-align: top;\n",
       "    }\n",
       "\n",
       "    .dataframe thead th {\n",
       "        text-align: right;\n",
       "    }\n",
       "</style>\n",
       "<table border=\"1\" class=\"dataframe\">\n",
       "  <thead>\n",
       "    <tr style=\"text-align: right;\">\n",
       "      <th></th>\n",
       "      <th>action</th>\n",
       "      <th>adventure</th>\n",
       "      <th>animation</th>\n",
       "      <th>comedy</th>\n",
       "      <th>crime</th>\n",
       "      <th>documentary</th>\n",
       "      <th>drama</th>\n",
       "      <th>family</th>\n",
       "      <th>fantasy</th>\n",
       "      <th>history</th>\n",
       "      <th>horror</th>\n",
       "      <th>music</th>\n",
       "      <th>mystery</th>\n",
       "      <th>romance</th>\n",
       "      <th>science_fiction</th>\n",
       "      <th>thriller</th>\n",
       "      <th>tv_movie</th>\n",
       "      <th>war</th>\n",
       "      <th>western</th>\n",
       "    </tr>\n",
       "  </thead>\n",
       "  <tbody>\n",
       "    <tr>\n",
       "      <th>0</th>\n",
       "      <td>0</td>\n",
       "      <td>0</td>\n",
       "      <td>0</td>\n",
       "      <td>1</td>\n",
       "      <td>0</td>\n",
       "      <td>0</td>\n",
       "      <td>1</td>\n",
       "      <td>0</td>\n",
       "      <td>0</td>\n",
       "      <td>0</td>\n",
       "      <td>0</td>\n",
       "      <td>0</td>\n",
       "      <td>0</td>\n",
       "      <td>0</td>\n",
       "      <td>0</td>\n",
       "      <td>1</td>\n",
       "      <td>0</td>\n",
       "      <td>0</td>\n",
       "      <td>0</td>\n",
       "    </tr>\n",
       "    <tr>\n",
       "      <th>1</th>\n",
       "      <td>1</td>\n",
       "      <td>1</td>\n",
       "      <td>0</td>\n",
       "      <td>1</td>\n",
       "      <td>0</td>\n",
       "      <td>0</td>\n",
       "      <td>0</td>\n",
       "      <td>0</td>\n",
       "      <td>0</td>\n",
       "      <td>0</td>\n",
       "      <td>0</td>\n",
       "      <td>0</td>\n",
       "      <td>0</td>\n",
       "      <td>0</td>\n",
       "      <td>1</td>\n",
       "      <td>0</td>\n",
       "      <td>0</td>\n",
       "      <td>0</td>\n",
       "      <td>0</td>\n",
       "    </tr>\n",
       "    <tr>\n",
       "      <th>2</th>\n",
       "      <td>0</td>\n",
       "      <td>0</td>\n",
       "      <td>0</td>\n",
       "      <td>0</td>\n",
       "      <td>0</td>\n",
       "      <td>0</td>\n",
       "      <td>1</td>\n",
       "      <td>0</td>\n",
       "      <td>0</td>\n",
       "      <td>0</td>\n",
       "      <td>0</td>\n",
       "      <td>0</td>\n",
       "      <td>0</td>\n",
       "      <td>0</td>\n",
       "      <td>0</td>\n",
       "      <td>0</td>\n",
       "      <td>0</td>\n",
       "      <td>0</td>\n",
       "      <td>0</td>\n",
       "    </tr>\n",
       "    <tr>\n",
       "      <th>3</th>\n",
       "      <td>0</td>\n",
       "      <td>0</td>\n",
       "      <td>0</td>\n",
       "      <td>1</td>\n",
       "      <td>0</td>\n",
       "      <td>0</td>\n",
       "      <td>1</td>\n",
       "      <td>0</td>\n",
       "      <td>0</td>\n",
       "      <td>0</td>\n",
       "      <td>0</td>\n",
       "      <td>1</td>\n",
       "      <td>0</td>\n",
       "      <td>1</td>\n",
       "      <td>0</td>\n",
       "      <td>0</td>\n",
       "      <td>0</td>\n",
       "      <td>0</td>\n",
       "      <td>0</td>\n",
       "    </tr>\n",
       "    <tr>\n",
       "      <th>4</th>\n",
       "      <td>0</td>\n",
       "      <td>0</td>\n",
       "      <td>0</td>\n",
       "      <td>0</td>\n",
       "      <td>0</td>\n",
       "      <td>0</td>\n",
       "      <td>1</td>\n",
       "      <td>0</td>\n",
       "      <td>0</td>\n",
       "      <td>1</td>\n",
       "      <td>0</td>\n",
       "      <td>0</td>\n",
       "      <td>0</td>\n",
       "      <td>0</td>\n",
       "      <td>0</td>\n",
       "      <td>0</td>\n",
       "      <td>0</td>\n",
       "      <td>0</td>\n",
       "      <td>0</td>\n",
       "    </tr>\n",
       "    <tr>\n",
       "      <th>...</th>\n",
       "      <td>...</td>\n",
       "      <td>...</td>\n",
       "      <td>...</td>\n",
       "      <td>...</td>\n",
       "      <td>...</td>\n",
       "      <td>...</td>\n",
       "      <td>...</td>\n",
       "      <td>...</td>\n",
       "      <td>...</td>\n",
       "      <td>...</td>\n",
       "      <td>...</td>\n",
       "      <td>...</td>\n",
       "      <td>...</td>\n",
       "      <td>...</td>\n",
       "      <td>...</td>\n",
       "      <td>...</td>\n",
       "      <td>...</td>\n",
       "      <td>...</td>\n",
       "      <td>...</td>\n",
       "    </tr>\n",
       "    <tr>\n",
       "      <th>279050</th>\n",
       "      <td>0</td>\n",
       "      <td>0</td>\n",
       "      <td>0</td>\n",
       "      <td>0</td>\n",
       "      <td>0</td>\n",
       "      <td>0</td>\n",
       "      <td>0</td>\n",
       "      <td>0</td>\n",
       "      <td>0</td>\n",
       "      <td>0</td>\n",
       "      <td>1</td>\n",
       "      <td>0</td>\n",
       "      <td>0</td>\n",
       "      <td>0</td>\n",
       "      <td>0</td>\n",
       "      <td>0</td>\n",
       "      <td>1</td>\n",
       "      <td>0</td>\n",
       "      <td>0</td>\n",
       "    </tr>\n",
       "    <tr>\n",
       "      <th>279051</th>\n",
       "      <td>0</td>\n",
       "      <td>0</td>\n",
       "      <td>0</td>\n",
       "      <td>0</td>\n",
       "      <td>0</td>\n",
       "      <td>0</td>\n",
       "      <td>1</td>\n",
       "      <td>0</td>\n",
       "      <td>0</td>\n",
       "      <td>0</td>\n",
       "      <td>0</td>\n",
       "      <td>0</td>\n",
       "      <td>0</td>\n",
       "      <td>0</td>\n",
       "      <td>0</td>\n",
       "      <td>0</td>\n",
       "      <td>0</td>\n",
       "      <td>0</td>\n",
       "      <td>0</td>\n",
       "    </tr>\n",
       "    <tr>\n",
       "      <th>279052</th>\n",
       "      <td>0</td>\n",
       "      <td>0</td>\n",
       "      <td>0</td>\n",
       "      <td>0</td>\n",
       "      <td>0</td>\n",
       "      <td>0</td>\n",
       "      <td>1</td>\n",
       "      <td>0</td>\n",
       "      <td>0</td>\n",
       "      <td>0</td>\n",
       "      <td>0</td>\n",
       "      <td>0</td>\n",
       "      <td>0</td>\n",
       "      <td>1</td>\n",
       "      <td>0</td>\n",
       "      <td>0</td>\n",
       "      <td>0</td>\n",
       "      <td>0</td>\n",
       "      <td>0</td>\n",
       "    </tr>\n",
       "    <tr>\n",
       "      <th>279053</th>\n",
       "      <td>0</td>\n",
       "      <td>0</td>\n",
       "      <td>0</td>\n",
       "      <td>0</td>\n",
       "      <td>0</td>\n",
       "      <td>0</td>\n",
       "      <td>1</td>\n",
       "      <td>0</td>\n",
       "      <td>0</td>\n",
       "      <td>0</td>\n",
       "      <td>0</td>\n",
       "      <td>0</td>\n",
       "      <td>0</td>\n",
       "      <td>0</td>\n",
       "      <td>0</td>\n",
       "      <td>0</td>\n",
       "      <td>0</td>\n",
       "      <td>0</td>\n",
       "      <td>0</td>\n",
       "    </tr>\n",
       "    <tr>\n",
       "      <th>279054</th>\n",
       "      <td>0</td>\n",
       "      <td>0</td>\n",
       "      <td>0</td>\n",
       "      <td>0</td>\n",
       "      <td>0</td>\n",
       "      <td>0</td>\n",
       "      <td>1</td>\n",
       "      <td>0</td>\n",
       "      <td>0</td>\n",
       "      <td>0</td>\n",
       "      <td>0</td>\n",
       "      <td>0</td>\n",
       "      <td>0</td>\n",
       "      <td>0</td>\n",
       "      <td>0</td>\n",
       "      <td>0</td>\n",
       "      <td>0</td>\n",
       "      <td>0</td>\n",
       "      <td>0</td>\n",
       "    </tr>\n",
       "  </tbody>\n",
       "</table>\n",
       "<p>279055 rows × 19 columns</p>\n",
       "</div>"
      ],
      "text/plain": [
       "        action  adventure  animation  comedy  crime  documentary  drama  \\\n",
       "0            0          0          0       1      0            0      1   \n",
       "1            1          1          0       1      0            0      0   \n",
       "2            0          0          0       0      0            0      1   \n",
       "3            0          0          0       1      0            0      1   \n",
       "4            0          0          0       0      0            0      1   \n",
       "...        ...        ...        ...     ...    ...          ...    ...   \n",
       "279050       0          0          0       0      0            0      0   \n",
       "279051       0          0          0       0      0            0      1   \n",
       "279052       0          0          0       0      0            0      1   \n",
       "279053       0          0          0       0      0            0      1   \n",
       "279054       0          0          0       0      0            0      1   \n",
       "\n",
       "        family  fantasy  history  horror  music  mystery  romance  \\\n",
       "0            0        0        0       0      0        0        0   \n",
       "1            0        0        0       0      0        0        0   \n",
       "2            0        0        0       0      0        0        0   \n",
       "3            0        0        0       0      1        0        1   \n",
       "4            0        0        1       0      0        0        0   \n",
       "...        ...      ...      ...     ...    ...      ...      ...   \n",
       "279050       0        0        0       1      0        0        0   \n",
       "279051       0        0        0       0      0        0        0   \n",
       "279052       0        0        0       0      0        0        1   \n",
       "279053       0        0        0       0      0        0        0   \n",
       "279054       0        0        0       0      0        0        0   \n",
       "\n",
       "        science_fiction  thriller  tv_movie  war  western  \n",
       "0                     0         1         0    0        0  \n",
       "1                     1         0         0    0        0  \n",
       "2                     0         0         0    0        0  \n",
       "3                     0         0         0    0        0  \n",
       "4                     0         0         0    0        0  \n",
       "...                 ...       ...       ...  ...      ...  \n",
       "279050                0         0         1    0        0  \n",
       "279051                0         0         0    0        0  \n",
       "279052                0         0         0    0        0  \n",
       "279053                0         0         0    0        0  \n",
       "279054                0         0         0    0        0  \n",
       "\n",
       "[279055 rows x 19 columns]"
      ]
     },
     "execution_count": 88,
     "metadata": {},
     "output_type": "execute_result"
    }
   ],
   "source": [
    "from sklearn.preprocessing import MultiLabelBinarizer\n",
    "\n",
    "encoder = MultiLabelBinarizer()\n",
    "clean_up_data_temp = pd.DataFrame(encoder.fit_transform(clean_up_data['genre_list'].str.split(' ')),\n",
    "                                  columns=encoder.classes_,\n",
    "                                  index=clean_up_data.index)\n",
    "\n",
    "\n",
    "\n",
    "clean_up_data_temp"
   ]
  }
 ],
 "metadata": {
  "kernelspec": {
   "display_name": "movie_picker",
   "language": "python",
   "name": "python3"
  },
  "language_info": {
   "codemirror_mode": {
    "name": "ipython",
    "version": 3
   },
   "file_extension": ".py",
   "mimetype": "text/x-python",
   "name": "python",
   "nbconvert_exporter": "python",
   "pygments_lexer": "ipython3",
   "version": "3.10.6"
  }
 },
 "nbformat": 4,
 "nbformat_minor": 2
}

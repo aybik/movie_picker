{
 "cells": [
  {
   "cell_type": "code",
   "execution_count": 1,
   "metadata": {},
   "outputs": [],
   "source": [
    "import pandas as pd\n",
    "import os"
   ]
  },
  {
   "cell_type": "code",
   "execution_count": 2,
   "metadata": {},
   "outputs": [],
   "source": [
    "current_dir = os.getcwd() #current dir\n",
    "parent_dir = os.path.dirname(current_dir) #parent of current dir"
   ]
  },
  {
   "cell_type": "code",
   "execution_count": 3,
   "metadata": {},
   "outputs": [],
   "source": [
    "movies = pd.read_csv(os.path.join(parent_dir,'raw_data/movies.csv'))\n",
    "actors = pd.read_csv(os.path.join(parent_dir,'raw_data/actors.csv'))\n",
    "crew = pd.read_csv(os.path.join(parent_dir,'raw_data/crew.csv'))\n",
    "languages = pd.read_csv(os.path.join(parent_dir,'raw_data/languages.csv'))\n",
    "genres = pd.read_csv(os.path.join(parent_dir,'raw_data/genres.csv'))\n",
    "studios = pd.read_csv(os.path.join(parent_dir,'raw_data/studios.csv'))\n",
    "countries = pd.read_csv(os.path.join(parent_dir,'raw_data/countries.csv'))"
   ]
  },
  {
   "cell_type": "code",
   "execution_count": 4,
   "metadata": {},
   "outputs": [],
   "source": [
    "movies = movies.drop(columns='tagline', axis=1)\n",
    "\n",
    "actors = actors.drop(columns='role', axis=1)\n",
    "actors = actors.dropna()\n",
    "\n",
    "crew = crew[crew['role'].isin(['Director', 'Writer', 'Cinematography', 'Composer'])] #'Songs', 'Producer',\n",
    "\n",
    "languages = languages[languages['type'].isin(['Language', 'Primary language'])].drop(columns='type')"
   ]
  },
  {
   "cell_type": "code",
   "execution_count": 5,
   "metadata": {},
   "outputs": [
    {
     "name": "stderr",
     "output_type": "stream",
     "text": [
      "/tmp/ipykernel_23619/2434692008.py:3: DeprecationWarning: DataFrameGroupBy.apply operated on the grouping columns. This behavior is deprecated, and in a future version of pandas the grouping columns will be excluded from the operation. Either pass `include_groups=False` to exclude the groupings or explicitly select the grouping columns after groupby to silence this warning.\n",
      "  .apply(lambda x: x.groupby('role')['name'].apply(list).to_dict())\n"
     ]
    }
   ],
   "source": [
    "new_crew = (\n",
    "    crew.groupby('id')\n",
    "    .apply(lambda x: x.groupby('role')['name'].apply(list).to_dict())\n",
    "    .reset_index(name='crew_dict')\n",
    ")"
   ]
  },
  {
   "cell_type": "code",
   "execution_count": 6,
   "metadata": {},
   "outputs": [],
   "source": [
    "new_genres = (\n",
    "    genres.groupby('id')['genre']\n",
    "    .apply(list)  # Aggregates genres into a list\n",
    "    .reset_index(name='genre_list')  # Converts to DataFrame and renames the column\n",
    ")\n",
    "\n",
    "new_studios = (\n",
    "    studios.groupby('id')['studio']\n",
    "    .apply(list)  # Aggregates genres into a list\n",
    "    .reset_index(name='studio_list')  # Converts to DataFrame and renames the column\n",
    ")\n",
    "\n",
    "new_actors = (\n",
    "    actors.groupby('id')['name']\n",
    "    .apply(list)  # Aggregates genres into a list\n",
    "    .reset_index(name='actor_list')  # Converts to DataFrame and renames the column\n",
    ")"
   ]
  },
  {
   "cell_type": "code",
   "execution_count": 1,
   "metadata": {},
   "outputs": [],
   "source": [
    "# actors = pd.read_csv('raw_data/actors.csv')\n",
    "# crew = pd.read_csv('raw_data/crew.csv')\n",
    "# languages = pd.read_csv('raw_data/languages.csv')\n",
    "# genres = pd.read_csv('raw_data/genres.csv')\n",
    "# studios = pd.read_csv('raw_data/studios.csv')\n",
    "# countries = pd.read_csv('raw_data/countries.csv')\n",
    "\n",
    "# temp = crew[crew['id']==1000001]\n",
    "#consider relabel those with small proportion to new category \"Others\"\n",
    "#embeddings make sense, but we will have little control\n",
    "#TODO: we check later how we deal with this feature!\n",
    "\n",
    "# crew.isnull().sum()\n",
    "# crew.role.unique()\n",
    "\n",
    "# genres.genre.unique() #OneHotEncoder\n",
    "\n",
    "# data.date.isnull().count()\n",
    "\n",
    "# studios.studio.value_counts()/studios.studio.value_counts().sum()\n",
    "#consider relabel those with small proportion to new category \"Others\" or drop them\n",
    "#embeddings make sense, but we will have little control\n",
    "#TODO: we check later how we deal with this feature!\n",
    "\n",
    "# countries # categorical, high-cardinality, embeddings\n",
    "# countries # if we chose studios, this one can be left out due to collinearity\n",
    "\n",
    "# Incremental Recall\n",
    "# python surprise\n",
    "# Qualitative not\n",
    "\n",
    "# - dropna, fillna: imputer\n",
    "# - solve outliners (year range): drop those that have"
   ]
  },
  {
   "cell_type": "code",
   "execution_count": 7,
   "metadata": {},
   "outputs": [],
   "source": [
    "data = movies \\\n",
    "    .merge(new_genres, how='left', on='id') \\\n",
    "    .merge(new_actors, how='left', on='id') \\\n",
    "    .merge(languages, how='left', on='id') \\\n",
    "    .merge(new_studios, how='left', on='id') \\\n",
    "    .merge(new_crew, how='left', on='id')\n",
    "\n",
    "# data.to_csv(os.path.join(parent_dir,'compiled_movies.csv'), index=False)"
   ]
  },
  {
   "cell_type": "code",
   "execution_count": 46,
   "metadata": {},
   "outputs": [],
   "source": [
    "data.to_csv(os.path.join(parent_dir,'compiled_movies.csv'), index=False)"
   ]
  },
  {
   "cell_type": "code",
   "execution_count": 8,
   "metadata": {},
   "outputs": [],
   "source": [
    "# CLEANUP A\n",
    "data = data.dropna(subset=['date'])\n",
    "data['date'] = data['date'].astype(int)\n",
    "data = data.loc[data['name'] != 'Untitled'] #to be completed\n",
    "data = data.loc[data['date'] <= 2024]"
   ]
  },
  {
   "cell_type": "code",
   "execution_count": 9,
   "metadata": {},
   "outputs": [],
   "source": [
    "data['key_b'] = data['name'] + data['date'].apply(\n",
    "    lambda x: f\" ({int(x)})\" if not pd.isna(x) else ''\n",
    "    )"
   ]
  },
  {
   "cell_type": "code",
   "execution_count": 11,
   "metadata": {},
   "outputs": [],
   "source": [
    "check_data = data.groupby('key_b').size().reset_index(name='frequency').sort_values(by='frequency', ascending=False)"
   ]
  },
  {
   "cell_type": "code",
   "execution_count": 12,
   "metadata": {},
   "outputs": [],
   "source": [
    "unique_keys = data['key_b'].value_counts()  # Count occurrences\n",
    "unique_keys = unique_keys[unique_keys == 1].index  # Keep only keys with frequency 1\n",
    "data = data[data['key_b'].isin(unique_keys)] # Filter rows where key_b is unique"
   ]
  },
  {
   "cell_type": "code",
   "execution_count": 13,
   "metadata": {},
   "outputs": [],
   "source": [
    "del unique_keys"
   ]
  },
  {
   "cell_type": "code",
   "execution_count": 14,
   "metadata": {},
   "outputs": [],
   "source": [
    "# data.info()\n",
    "# 941597 entries original, after dropping key_b dup then 900394 entries, after dropping those that have no year 817987, after dropping those that have date >2024 817572"
   ]
  },
  {
   "cell_type": "code",
   "execution_count": 37,
   "metadata": {},
   "outputs": [
    {
     "data": {
      "text/html": [
       "<div>\n",
       "<style scoped>\n",
       "    .dataframe tbody tr th:only-of-type {\n",
       "        vertical-align: middle;\n",
       "    }\n",
       "\n",
       "    .dataframe tbody tr th {\n",
       "        vertical-align: top;\n",
       "    }\n",
       "\n",
       "    .dataframe thead th {\n",
       "        text-align: right;\n",
       "    }\n",
       "</style>\n",
       "<table border=\"1\" class=\"dataframe\">\n",
       "  <thead>\n",
       "    <tr style=\"text-align: right;\">\n",
       "      <th></th>\n",
       "      <th>id</th>\n",
       "      <th>name</th>\n",
       "      <th>date</th>\n",
       "      <th>description</th>\n",
       "      <th>minute</th>\n",
       "      <th>rating</th>\n",
       "      <th>genre_list</th>\n",
       "      <th>actor_list</th>\n",
       "      <th>language</th>\n",
       "      <th>studio_list</th>\n",
       "      <th>crew_dict</th>\n",
       "      <th>key_b</th>\n",
       "    </tr>\n",
       "  </thead>\n",
       "  <tbody>\n",
       "    <tr>\n",
       "      <th>1</th>\n",
       "      <td>1000002</td>\n",
       "      <td>Parasite</td>\n",
       "      <td>2019</td>\n",
       "      <td>All unemployed, Ki-taek's family takes peculia...</td>\n",
       "      <td>133.0</td>\n",
       "      <td>4.56</td>\n",
       "      <td>[Comedy, Thriller, Drama]</td>\n",
       "      <td>[Song Kang-ho, Lee Sun-kyun, Cho Yeo-jeong, Ch...</td>\n",
       "      <td>Korean</td>\n",
       "      <td>[Barunson E&amp;A]</td>\n",
       "      <td>{'Cinematography': ['Hong Kyung-pyo'], 'Compos...</td>\n",
       "      <td>Parasite (2019)</td>\n",
       "    </tr>\n",
       "    <tr>\n",
       "      <th>2</th>\n",
       "      <td>1000003</td>\n",
       "      <td>Everything Everywhere All at Once</td>\n",
       "      <td>2022</td>\n",
       "      <td>An aging Chinese immigrant is swept up in an i...</td>\n",
       "      <td>140.0</td>\n",
       "      <td>4.30</td>\n",
       "      <td>[Science Fiction, Adventure, Comedy, Action]</td>\n",
       "      <td>[Michelle Yeoh, Ke Huy Quan, Stephanie Hsu, Ja...</td>\n",
       "      <td>English</td>\n",
       "      <td>[IAC Films, AGBO, Ley Line Entertainment, Year...</td>\n",
       "      <td>{'Cinematography': ['Larkin Seiple'], 'Compose...</td>\n",
       "      <td>Everything Everywhere All at Once (2022)</td>\n",
       "    </tr>\n",
       "    <tr>\n",
       "      <th>3</th>\n",
       "      <td>1000004</td>\n",
       "      <td>Fight Club</td>\n",
       "      <td>1999</td>\n",
       "      <td>A ticking-time-bomb insomniac and a slippery s...</td>\n",
       "      <td>139.0</td>\n",
       "      <td>4.27</td>\n",
       "      <td>[Drama]</td>\n",
       "      <td>[Edward Norton, Brad Pitt, Helena Bonham Carte...</td>\n",
       "      <td>English</td>\n",
       "      <td>[Fox 2000 Pictures, Regency Enterprises, The L...</td>\n",
       "      <td>{'Cinematography': ['Jeff Cronenweth'], 'Compo...</td>\n",
       "      <td>Fight Club (1999)</td>\n",
       "    </tr>\n",
       "    <tr>\n",
       "      <th>4</th>\n",
       "      <td>1000005</td>\n",
       "      <td>La La Land</td>\n",
       "      <td>2016</td>\n",
       "      <td>Mia, an aspiring actress, serves lattes to mov...</td>\n",
       "      <td>129.0</td>\n",
       "      <td>4.09</td>\n",
       "      <td>[Drama, Comedy, Music, Romance]</td>\n",
       "      <td>[Ryan Gosling, Emma Stone, John Legend, Rosema...</td>\n",
       "      <td>English</td>\n",
       "      <td>[Summit Entertainment, Black Label Media, Gilb...</td>\n",
       "      <td>{'Cinematography': ['Linus Sandgren'], 'Compos...</td>\n",
       "      <td>La La Land (2016)</td>\n",
       "    </tr>\n",
       "    <tr>\n",
       "      <th>5</th>\n",
       "      <td>1000006</td>\n",
       "      <td>Oppenheimer</td>\n",
       "      <td>2023</td>\n",
       "      <td>The story of J. Robert Oppenheimer's role in t...</td>\n",
       "      <td>181.0</td>\n",
       "      <td>4.23</td>\n",
       "      <td>[Drama, History]</td>\n",
       "      <td>[Cillian Murphy, Emily Blunt, Matt Damon, Robe...</td>\n",
       "      <td>English</td>\n",
       "      <td>[Syncopy, Universal Pictures, Atlas Entertainm...</td>\n",
       "      <td>{'Cinematography': ['Hoyte van Hoytema'], 'Com...</td>\n",
       "      <td>Oppenheimer (2023)</td>\n",
       "    </tr>\n",
       "  </tbody>\n",
       "</table>\n",
       "</div>"
      ],
      "text/plain": [
       "        id                               name  date  \\\n",
       "1  1000002                           Parasite  2019   \n",
       "2  1000003  Everything Everywhere All at Once  2022   \n",
       "3  1000004                         Fight Club  1999   \n",
       "4  1000005                         La La Land  2016   \n",
       "5  1000006                        Oppenheimer  2023   \n",
       "\n",
       "                                         description  minute  rating  \\\n",
       "1  All unemployed, Ki-taek's family takes peculia...   133.0    4.56   \n",
       "2  An aging Chinese immigrant is swept up in an i...   140.0    4.30   \n",
       "3  A ticking-time-bomb insomniac and a slippery s...   139.0    4.27   \n",
       "4  Mia, an aspiring actress, serves lattes to mov...   129.0    4.09   \n",
       "5  The story of J. Robert Oppenheimer's role in t...   181.0    4.23   \n",
       "\n",
       "                                     genre_list  \\\n",
       "1                     [Comedy, Thriller, Drama]   \n",
       "2  [Science Fiction, Adventure, Comedy, Action]   \n",
       "3                                       [Drama]   \n",
       "4               [Drama, Comedy, Music, Romance]   \n",
       "5                              [Drama, History]   \n",
       "\n",
       "                                          actor_list language  \\\n",
       "1  [Song Kang-ho, Lee Sun-kyun, Cho Yeo-jeong, Ch...   Korean   \n",
       "2  [Michelle Yeoh, Ke Huy Quan, Stephanie Hsu, Ja...  English   \n",
       "3  [Edward Norton, Brad Pitt, Helena Bonham Carte...  English   \n",
       "4  [Ryan Gosling, Emma Stone, John Legend, Rosema...  English   \n",
       "5  [Cillian Murphy, Emily Blunt, Matt Damon, Robe...  English   \n",
       "\n",
       "                                         studio_list  \\\n",
       "1                                     [Barunson E&A]   \n",
       "2  [IAC Films, AGBO, Ley Line Entertainment, Year...   \n",
       "3  [Fox 2000 Pictures, Regency Enterprises, The L...   \n",
       "4  [Summit Entertainment, Black Label Media, Gilb...   \n",
       "5  [Syncopy, Universal Pictures, Atlas Entertainm...   \n",
       "\n",
       "                                           crew_dict  \\\n",
       "1  {'Cinematography': ['Hong Kyung-pyo'], 'Compos...   \n",
       "2  {'Cinematography': ['Larkin Seiple'], 'Compose...   \n",
       "3  {'Cinematography': ['Jeff Cronenweth'], 'Compo...   \n",
       "4  {'Cinematography': ['Linus Sandgren'], 'Compos...   \n",
       "5  {'Cinematography': ['Hoyte van Hoytema'], 'Com...   \n",
       "\n",
       "                                      key_b  \n",
       "1                           Parasite (2019)  \n",
       "2  Everything Everywhere All at Once (2022)  \n",
       "3                         Fight Club (1999)  \n",
       "4                         La La Land (2016)  \n",
       "5                        Oppenheimer (2023)  "
      ]
     },
     "execution_count": 37,
     "metadata": {},
     "output_type": "execute_result"
    }
   ],
   "source": [
    "data.head()"
   ]
  },
  {
   "cell_type": "code",
   "execution_count": 4,
   "metadata": {},
   "outputs": [],
   "source": [
    "data = pd.read_csv(os.path.join(parent_dir,'compiled_movies.csv'))"
   ]
  },
  {
   "cell_type": "code",
   "execution_count": 5,
   "metadata": {},
   "outputs": [],
   "source": [
    "clean_up_data = data.copy()"
   ]
  },
  {
   "cell_type": "code",
   "execution_count": 6,
   "metadata": {},
   "outputs": [],
   "source": [
    "clean_up_data = clean_up_data.dropna(subset='crew_dict')"
   ]
  },
  {
   "cell_type": "code",
   "execution_count": 7,
   "metadata": {},
   "outputs": [],
   "source": [
    "clean_up_data = clean_up_data.drop(columns=['studio_list', 'rating'])"
   ]
  },
  {
   "cell_type": "code",
   "execution_count": null,
   "metadata": {},
   "outputs": [],
   "source": [
    "clean_up_data.minute #impute mean or median\n",
    "clean_up_data.genre_list #impute with new genre category \"Other\" or \"Unknown\"\n",
    "clean_up_data.actor_list #drop rows\n",
    "\n",
    "# SUPER SOLUTION: API scrapping can fill in all missing values\n",
    "# some fancy graphs in the frontend if possible"
   ]
  },
  {
   "cell_type": "code",
   "execution_count": 8,
   "metadata": {},
   "outputs": [],
   "source": [
    "clean_up_data = clean_up_data.dropna()"
   ]
  },
  {
   "cell_type": "code",
   "execution_count": 9,
   "metadata": {},
   "outputs": [
    {
     "data": {
      "text/plain": [
       "id             0\n",
       "name           0\n",
       "date           0\n",
       "description    0\n",
       "minute         0\n",
       "genre_list     0\n",
       "actor_list     0\n",
       "language       0\n",
       "crew_dict      0\n",
       "key_b          0\n",
       "dtype: int64"
      ]
     },
     "execution_count": 9,
     "metadata": {},
     "output_type": "execute_result"
    }
   ],
   "source": [
    "clean_up_data.isnull().sum()"
   ]
  },
  {
   "cell_type": "code",
   "execution_count": 12,
   "metadata": {},
   "outputs": [],
   "source": [
    "clean_up_data.to_csv(os.path.join(parent_dir,'clean_compile.csv'))"
   ]
  },
  {
   "cell_type": "code",
   "execution_count": null,
   "metadata": {},
   "outputs": [],
   "source": [
    "# ADVISE FROM TEACHERS\n",
    "# first drop rows where everything is missing\n",
    "# for Wed: drop rows where description isnull, no impute using other text columns --> future: API web_scrapping to fill in description\n",
    "# for Wed: snapshot dataset (random/first/last 10k)"
   ]
  },
  {
   "cell_type": "code",
   "execution_count": 14,
   "metadata": {},
   "outputs": [
    {
     "name": "stdout",
     "output_type": "stream",
     "text": [
      "<class 'pandas.core.frame.DataFrame'>\n",
      "Index: 379203 entries, 0 to 817568\n",
      "Data columns (total 10 columns):\n",
      " #   Column       Non-Null Count   Dtype  \n",
      "---  ------       --------------   -----  \n",
      " 0   id           379203 non-null  int64  \n",
      " 1   name         379203 non-null  object \n",
      " 2   date         379203 non-null  int64  \n",
      " 3   description  379203 non-null  object \n",
      " 4   minute       379203 non-null  float64\n",
      " 5   genre_list   379203 non-null  object \n",
      " 6   actor_list   379203 non-null  object \n",
      " 7   language     379203 non-null  object \n",
      " 8   crew_dict    379203 non-null  object \n",
      " 9   key_b        379203 non-null  object \n",
      "dtypes: float64(1), int64(2), object(7)\n",
      "memory usage: 31.8+ MB\n"
     ]
    }
   ],
   "source": [
    "clean_up_data.info()"
   ]
  },
  {
   "cell_type": "code",
   "execution_count": null,
   "metadata": {},
   "outputs": [],
   "source": [
    "number\n",
    "category\n",
    "text"
   ]
  },
  {
   "cell_type": "code",
   "execution_count": 9,
   "metadata": {},
   "outputs": [
    {
     "data": {
      "text/plain": [
       "(721472, 10)"
      ]
     },
     "execution_count": 9,
     "metadata": {},
     "output_type": "execute_result"
    }
   ],
   "source": [
    "clean_up_data.shape"
   ]
  },
  {
   "cell_type": "code",
   "execution_count": 49,
   "metadata": {},
   "outputs": [],
   "source": [
    "check_series = data.loc[data.crew_dict.isnull()]"
   ]
  },
  {
   "cell_type": "code",
   "execution_count": null,
   "metadata": {},
   "outputs": [],
   "source": []
  },
  {
   "cell_type": "code",
   "execution_count": 45,
   "metadata": {},
   "outputs": [
    {
     "data": {
      "text/plain": [
       "16.294956285195678"
      ]
     },
     "execution_count": 45,
     "metadata": {},
     "output_type": "execute_result"
    }
   ],
   "source": [
    "133223/817572 * 100 # % of description isnull\n",
    "\n",
    "# CREW\n",
    "# 1. drop crew_dict isnull\n",
    "\n",
    "# DESCRIPTION\n",
    "# 1. drop rows where description isnull --\n",
    "# 2. impute description with combi of genre, language, etc. --Aybike, Ha, []\n",
    "# 3. impute description with random text"
   ]
  },
  {
   "cell_type": "code",
   "execution_count": 15,
   "metadata": {},
   "outputs": [],
   "source": [
    "new_A = data[['key_b', 'date']]"
   ]
  },
  {
   "cell_type": "code",
   "execution_count": 16,
   "metadata": {},
   "outputs": [
    {
     "data": {
      "text/html": [
       "<div>\n",
       "<style scoped>\n",
       "    .dataframe tbody tr th:only-of-type {\n",
       "        vertical-align: middle;\n",
       "    }\n",
       "\n",
       "    .dataframe tbody tr th {\n",
       "        vertical-align: top;\n",
       "    }\n",
       "\n",
       "    .dataframe thead th {\n",
       "        text-align: right;\n",
       "    }\n",
       "</style>\n",
       "<table border=\"1\" class=\"dataframe\">\n",
       "  <thead>\n",
       "    <tr style=\"text-align: right;\">\n",
       "      <th></th>\n",
       "      <th>key_b</th>\n",
       "      <th>date</th>\n",
       "    </tr>\n",
       "  </thead>\n",
       "  <tbody>\n",
       "    <tr>\n",
       "      <th>1</th>\n",
       "      <td>Parasite (2019)</td>\n",
       "      <td>2019</td>\n",
       "    </tr>\n",
       "    <tr>\n",
       "      <th>2</th>\n",
       "      <td>Everything Everywhere All at Once (2022)</td>\n",
       "      <td>2022</td>\n",
       "    </tr>\n",
       "    <tr>\n",
       "      <th>3</th>\n",
       "      <td>Fight Club (1999)</td>\n",
       "      <td>1999</td>\n",
       "    </tr>\n",
       "    <tr>\n",
       "      <th>4</th>\n",
       "      <td>La La Land (2016)</td>\n",
       "      <td>2016</td>\n",
       "    </tr>\n",
       "    <tr>\n",
       "      <th>5</th>\n",
       "      <td>Oppenheimer (2023)</td>\n",
       "      <td>2023</td>\n",
       "    </tr>\n",
       "    <tr>\n",
       "      <th>...</th>\n",
       "      <td>...</td>\n",
       "      <td>...</td>\n",
       "    </tr>\n",
       "    <tr>\n",
       "      <th>940966</th>\n",
       "      <td>A Nursery In Paris (1909)</td>\n",
       "      <td>1909</td>\n",
       "    </tr>\n",
       "    <tr>\n",
       "      <th>940967</th>\n",
       "      <td>I klädloge och på scen (1908)</td>\n",
       "      <td>1908</td>\n",
       "    </tr>\n",
       "    <tr>\n",
       "      <th>940968</th>\n",
       "      <td>Danse fantaisiste (1902)</td>\n",
       "      <td>1902</td>\n",
       "    </tr>\n",
       "    <tr>\n",
       "      <th>940969</th>\n",
       "      <td>La Gigue (1902)</td>\n",
       "      <td>1902</td>\n",
       "    </tr>\n",
       "    <tr>\n",
       "      <th>940970</th>\n",
       "      <td>Serpentine Dance (1902)</td>\n",
       "      <td>1902</td>\n",
       "    </tr>\n",
       "  </tbody>\n",
       "</table>\n",
       "<p>817572 rows × 2 columns</p>\n",
       "</div>"
      ],
      "text/plain": [
       "                                           key_b  date\n",
       "1                                Parasite (2019)  2019\n",
       "2       Everything Everywhere All at Once (2022)  2022\n",
       "3                              Fight Club (1999)  1999\n",
       "4                              La La Land (2016)  2016\n",
       "5                             Oppenheimer (2023)  2023\n",
       "...                                          ...   ...\n",
       "940966                 A Nursery In Paris (1909)  1909\n",
       "940967             I klädloge och på scen (1908)  1908\n",
       "940968                  Danse fantaisiste (1902)  1902\n",
       "940969                           La Gigue (1902)  1902\n",
       "940970                   Serpentine Dance (1902)  1902\n",
       "\n",
       "[817572 rows x 2 columns]"
      ]
     },
     "execution_count": 16,
     "metadata": {},
     "output_type": "execute_result"
    }
   ],
   "source": [
    "new_A"
   ]
  },
  {
   "cell_type": "markdown",
   "metadata": {},
   "source": [
    "## Process dataset B"
   ]
  },
  {
   "cell_type": "code",
   "execution_count": 17,
   "metadata": {},
   "outputs": [],
   "source": [
    "B_movie = pd.read_csv(os.path.join(parent_dir,'raw_data/Set B/movie.csv'))\n",
    "B_rating = pd.read_csv(os.path.join(parent_dir,'raw_data/Set B/rating.csv'))\n",
    "\n",
    "B_data = B_movie.merge(B_rating, how='left', on='movieId')"
   ]
  },
  {
   "cell_type": "code",
   "execution_count": 18,
   "metadata": {},
   "outputs": [],
   "source": [
    "B_data['year'] = B_data['title'].str.extract(r'\\((\\d{4})\\)')\n",
    "B_data['new_title'] = B_data['title'].str.replace(r'\\s*\\(\\d{4}\\)', '', regex=True)\n",
    "B_data['new_title'] = B_data['new_title'].apply(\n",
    "    lambda x: f\"The {x[:-5]}\" if x.endswith(', The') else x\n",
    ")"
   ]
  },
  {
   "cell_type": "code",
   "execution_count": 26,
   "metadata": {},
   "outputs": [],
   "source": [
    "# new_B = B_data[['new_title']].drop_duplicates()\n",
    "# Modify titles ending with ', The'\n",
    "\n",
    "new_B = B_data[['title', 'new_title', 'year']].drop_duplicates()"
   ]
  },
  {
   "cell_type": "code",
   "execution_count": 30,
   "metadata": {},
   "outputs": [],
   "source": [
    "new_B['key_a'] = B_data['new_title'] + B_data['year'].apply(\n",
    "    lambda x: f\" ({int(x)})\" if not pd.isna(x) else ''\n",
    "    )"
   ]
  },
  {
   "cell_type": "code",
   "execution_count": 31,
   "metadata": {},
   "outputs": [
    {
     "data": {
      "text/html": [
       "<div>\n",
       "<style scoped>\n",
       "    .dataframe tbody tr th:only-of-type {\n",
       "        vertical-align: middle;\n",
       "    }\n",
       "\n",
       "    .dataframe tbody tr th {\n",
       "        vertical-align: top;\n",
       "    }\n",
       "\n",
       "    .dataframe thead th {\n",
       "        text-align: right;\n",
       "    }\n",
       "</style>\n",
       "<table border=\"1\" class=\"dataframe\">\n",
       "  <thead>\n",
       "    <tr style=\"text-align: right;\">\n",
       "      <th></th>\n",
       "      <th>title</th>\n",
       "      <th>new_title</th>\n",
       "      <th>year</th>\n",
       "      <th>key_a</th>\n",
       "    </tr>\n",
       "  </thead>\n",
       "  <tbody>\n",
       "    <tr>\n",
       "      <th>0</th>\n",
       "      <td>Toy Story (1995)</td>\n",
       "      <td>Toy Story</td>\n",
       "      <td>1995</td>\n",
       "      <td>Toy Story (1995)</td>\n",
       "    </tr>\n",
       "    <tr>\n",
       "      <th>49695</th>\n",
       "      <td>Jumanji (1995)</td>\n",
       "      <td>Jumanji</td>\n",
       "      <td>1995</td>\n",
       "      <td>Jumanji (1995)</td>\n",
       "    </tr>\n",
       "    <tr>\n",
       "      <th>71938</th>\n",
       "      <td>Grumpier Old Men (1995)</td>\n",
       "      <td>Grumpier Old Men</td>\n",
       "      <td>1995</td>\n",
       "      <td>Grumpier Old Men (1995)</td>\n",
       "    </tr>\n",
       "    <tr>\n",
       "      <th>84673</th>\n",
       "      <td>Waiting to Exhale (1995)</td>\n",
       "      <td>Waiting to Exhale</td>\n",
       "      <td>1995</td>\n",
       "      <td>Waiting to Exhale (1995)</td>\n",
       "    </tr>\n",
       "    <tr>\n",
       "      <th>87429</th>\n",
       "      <td>Father of the Bride Part II (1995)</td>\n",
       "      <td>Father of the Bride Part II</td>\n",
       "      <td>1995</td>\n",
       "      <td>Father of the Bride Part II (1995)</td>\n",
       "    </tr>\n",
       "  </tbody>\n",
       "</table>\n",
       "</div>"
      ],
      "text/plain": [
       "                                    title                    new_title  year  \\\n",
       "0                        Toy Story (1995)                    Toy Story  1995   \n",
       "49695                      Jumanji (1995)                      Jumanji  1995   \n",
       "71938             Grumpier Old Men (1995)             Grumpier Old Men  1995   \n",
       "84673            Waiting to Exhale (1995)            Waiting to Exhale  1995   \n",
       "87429  Father of the Bride Part II (1995)  Father of the Bride Part II  1995   \n",
       "\n",
       "                                    key_a  \n",
       "0                        Toy Story (1995)  \n",
       "49695                      Jumanji (1995)  \n",
       "71938             Grumpier Old Men (1995)  \n",
       "84673            Waiting to Exhale (1995)  \n",
       "87429  Father of the Bride Part II (1995)  "
      ]
     },
     "execution_count": 31,
     "metadata": {},
     "output_type": "execute_result"
    }
   ],
   "source": [
    "new_B.head()"
   ]
  },
  {
   "cell_type": "markdown",
   "metadata": {},
   "source": [
    "## Join A and B"
   ]
  },
  {
   "cell_type": "code",
   "execution_count": 32,
   "metadata": {},
   "outputs": [],
   "source": [
    "merge_A_and_B = new_A.merge(new_B, how='left', left_on='key_b', right_on='key_a')"
   ]
  },
  {
   "cell_type": "code",
   "execution_count": 33,
   "metadata": {},
   "outputs": [
    {
     "data": {
      "text/html": [
       "<div>\n",
       "<style scoped>\n",
       "    .dataframe tbody tr th:only-of-type {\n",
       "        vertical-align: middle;\n",
       "    }\n",
       "\n",
       "    .dataframe tbody tr th {\n",
       "        vertical-align: top;\n",
       "    }\n",
       "\n",
       "    .dataframe thead th {\n",
       "        text-align: right;\n",
       "    }\n",
       "</style>\n",
       "<table border=\"1\" class=\"dataframe\">\n",
       "  <thead>\n",
       "    <tr style=\"text-align: right;\">\n",
       "      <th></th>\n",
       "      <th>key_b</th>\n",
       "      <th>date</th>\n",
       "      <th>title</th>\n",
       "      <th>new_title</th>\n",
       "      <th>year</th>\n",
       "      <th>key_a</th>\n",
       "    </tr>\n",
       "  </thead>\n",
       "  <tbody>\n",
       "    <tr>\n",
       "      <th>2</th>\n",
       "      <td>Fight Club (1999)</td>\n",
       "      <td>1999</td>\n",
       "      <td>Fight Club (1999)</td>\n",
       "      <td>Fight Club</td>\n",
       "      <td>1999</td>\n",
       "      <td>Fight Club (1999)</td>\n",
       "    </tr>\n",
       "    <tr>\n",
       "      <th>5</th>\n",
       "      <td>Interstellar (2014)</td>\n",
       "      <td>2014</td>\n",
       "      <td>Interstellar (2014)</td>\n",
       "      <td>Interstellar</td>\n",
       "      <td>2014</td>\n",
       "      <td>Interstellar (2014)</td>\n",
       "    </tr>\n",
       "    <tr>\n",
       "      <th>8</th>\n",
       "      <td>Pulp Fiction (1994)</td>\n",
       "      <td>1994</td>\n",
       "      <td>Pulp Fiction (1994)</td>\n",
       "      <td>Pulp Fiction</td>\n",
       "      <td>1994</td>\n",
       "      <td>Pulp Fiction (1994)</td>\n",
       "    </tr>\n",
       "    <tr>\n",
       "      <th>10</th>\n",
       "      <td>Whiplash (2014)</td>\n",
       "      <td>2014</td>\n",
       "      <td>Whiplash (2014)</td>\n",
       "      <td>Whiplash</td>\n",
       "      <td>2014</td>\n",
       "      <td>Whiplash (2014)</td>\n",
       "    </tr>\n",
       "    <tr>\n",
       "      <th>15</th>\n",
       "      <td>The Dark Knight (2008)</td>\n",
       "      <td>2008</td>\n",
       "      <td>Dark Knight, The (2008)</td>\n",
       "      <td>The Dark Knight</td>\n",
       "      <td>2008</td>\n",
       "      <td>The Dark Knight (2008)</td>\n",
       "    </tr>\n",
       "    <tr>\n",
       "      <th>...</th>\n",
       "      <td>...</td>\n",
       "      <td>...</td>\n",
       "      <td>...</td>\n",
       "      <td>...</td>\n",
       "      <td>...</td>\n",
       "      <td>...</td>\n",
       "    </tr>\n",
       "    <tr>\n",
       "      <th>719244</th>\n",
       "      <td>Die Frau des Frisörs (2008)</td>\n",
       "      <td>2008</td>\n",
       "      <td>Die Frau des Frisörs (2008)</td>\n",
       "      <td>Die Frau des Frisörs</td>\n",
       "      <td>2008</td>\n",
       "      <td>Die Frau des Frisörs (2008)</td>\n",
       "    </tr>\n",
       "    <tr>\n",
       "      <th>735576</th>\n",
       "      <td>Confessions of a Gangsta (2006)</td>\n",
       "      <td>2006</td>\n",
       "      <td>Confessions of a Gangsta (2006)</td>\n",
       "      <td>Confessions of a Gangsta</td>\n",
       "      <td>2006</td>\n",
       "      <td>Confessions of a Gangsta (2006)</td>\n",
       "    </tr>\n",
       "    <tr>\n",
       "      <th>752416</th>\n",
       "      <td>Apollo Zero (2009)</td>\n",
       "      <td>2009</td>\n",
       "      <td>Apollo Zero (2009)</td>\n",
       "      <td>Apollo Zero</td>\n",
       "      <td>2009</td>\n",
       "      <td>Apollo Zero (2009)</td>\n",
       "    </tr>\n",
       "    <tr>\n",
       "      <th>764628</th>\n",
       "      <td>Family Meeting (2007)</td>\n",
       "      <td>2007</td>\n",
       "      <td>Family Meeting (2007)</td>\n",
       "      <td>Family Meeting</td>\n",
       "      <td>2007</td>\n",
       "      <td>Family Meeting (2007)</td>\n",
       "    </tr>\n",
       "    <tr>\n",
       "      <th>807657</th>\n",
       "      <td>Super Rich: The Greed Game (2008)</td>\n",
       "      <td>2008</td>\n",
       "      <td>Super Rich: The Greed Game (2008)</td>\n",
       "      <td>Super Rich: The Greed Game</td>\n",
       "      <td>2008</td>\n",
       "      <td>Super Rich: The Greed Game (2008)</td>\n",
       "    </tr>\n",
       "  </tbody>\n",
       "</table>\n",
       "<p>18427 rows × 6 columns</p>\n",
       "</div>"
      ],
      "text/plain": [
       "                                    key_b  date  \\\n",
       "2                       Fight Club (1999)  1999   \n",
       "5                     Interstellar (2014)  2014   \n",
       "8                     Pulp Fiction (1994)  1994   \n",
       "10                        Whiplash (2014)  2014   \n",
       "15                 The Dark Knight (2008)  2008   \n",
       "...                                   ...   ...   \n",
       "719244        Die Frau des Frisörs (2008)  2008   \n",
       "735576    Confessions of a Gangsta (2006)  2006   \n",
       "752416                 Apollo Zero (2009)  2009   \n",
       "764628              Family Meeting (2007)  2007   \n",
       "807657  Super Rich: The Greed Game (2008)  2008   \n",
       "\n",
       "                                    title                   new_title  year  \\\n",
       "2                       Fight Club (1999)                  Fight Club  1999   \n",
       "5                     Interstellar (2014)                Interstellar  2014   \n",
       "8                     Pulp Fiction (1994)                Pulp Fiction  1994   \n",
       "10                        Whiplash (2014)                    Whiplash  2014   \n",
       "15                Dark Knight, The (2008)             The Dark Knight  2008   \n",
       "...                                   ...                         ...   ...   \n",
       "719244        Die Frau des Frisörs (2008)        Die Frau des Frisörs  2008   \n",
       "735576    Confessions of a Gangsta (2006)    Confessions of a Gangsta  2006   \n",
       "752416                 Apollo Zero (2009)                 Apollo Zero  2009   \n",
       "764628              Family Meeting (2007)              Family Meeting  2007   \n",
       "807657  Super Rich: The Greed Game (2008)  Super Rich: The Greed Game  2008   \n",
       "\n",
       "                                    key_a  \n",
       "2                       Fight Club (1999)  \n",
       "5                     Interstellar (2014)  \n",
       "8                     Pulp Fiction (1994)  \n",
       "10                        Whiplash (2014)  \n",
       "15                 The Dark Knight (2008)  \n",
       "...                                   ...  \n",
       "719244        Die Frau des Frisörs (2008)  \n",
       "735576    Confessions of a Gangsta (2006)  \n",
       "752416                 Apollo Zero (2009)  \n",
       "764628              Family Meeting (2007)  \n",
       "807657  Super Rich: The Greed Game (2008)  \n",
       "\n",
       "[18427 rows x 6 columns]"
      ]
     },
     "execution_count": 33,
     "metadata": {},
     "output_type": "execute_result"
    }
   ],
   "source": [
    "merge_A_and_B[merge_A_and_B['title'].notna()]"
   ]
  },
  {
   "cell_type": "markdown",
   "metadata": {},
   "source": [
    "# SUMMARY\n",
    "- import csv files\n",
    "- "
   ]
  },
  {
   "cell_type": "markdown",
   "metadata": {},
   "source": [
    "ADVISE: high-cardiality --> may make sense to drop the rare guys or not"
   ]
  },
  {
   "cell_type": "markdown",
   "metadata": {},
   "source": []
  }
 ],
 "metadata": {
  "kernelspec": {
   "display_name": "movie_picker",
   "language": "python",
   "name": "python3"
  },
  "language_info": {
   "codemirror_mode": {
    "name": "ipython",
    "version": 3
   },
   "file_extension": ".py",
   "mimetype": "text/x-python",
   "name": "python",
   "nbconvert_exporter": "python",
   "pygments_lexer": "ipython3",
   "version": "3.10.6"
  }
 },
 "nbformat": 4,
 "nbformat_minor": 2
}

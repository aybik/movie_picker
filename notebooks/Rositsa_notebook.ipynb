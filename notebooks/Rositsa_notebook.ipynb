{
 "cells": [
  {
   "cell_type": "code",
   "execution_count": 19,
   "metadata": {},
   "outputs": [],
   "source": [
    "import pandas as pd\n",
    "\n",
    "# Dataset A:  https://www.kaggle.com/datasets/gsimonx37/letterboxd\n",
    "movies = pd.read_csv('/home/rositsa/code/aybik/movie_picker/raw_data/movies.csv')\n",
    "actors = pd.read_csv('/home/rositsa/code/aybik/movie_picker/raw_data/actors.csv')\n",
    "crew = pd.read_csv('/home/rositsa/code/aybik/movie_picker/raw_data/crew.csv')\n",
    "languages = pd.read_csv('/home/rositsa/code/aybik/movie_picker/raw_data/languages.csv')\n",
    "genres = pd.read_csv('/home/rositsa/code/aybik/movie_picker/raw_data/genres.csv')\n",
    "studios = pd.read_csv('/home/rositsa/code/aybik/movie_picker/raw_data/studios.csv')\n",
    "# themes = pd.read_csv('raw_data/themes.csv')\n",
    "# releases = pd.read_csv('raw_data/releases.csv')\n",
    "countries = pd.read_csv('/home/rositsa/code/aybik/movie_picker/raw_data/countries.csv')"
   ]
  },
  {
   "cell_type": "code",
   "execution_count": 64,
   "metadata": {},
   "outputs": [],
   "source": [
    "# Dataset C:  https://www.kaggle.com/datasets/freeth/letterboxd-film-ratings\n",
    "films = pd.read_csv('/home/rositsa/code/aybik/movie_picker/raw_data/Set C/films.csv', on_bad_lines='skip') # Skipping faulty lines that is some lines have more than the 4 values which are expected by the parser\n",
    "ratings = pd.read_csv('/home/rositsa/code/aybik/movie_picker/raw_data/Set C/ratings.csv')"
   ]
  },
  {
   "cell_type": "code",
   "execution_count": 20,
   "metadata": {},
   "outputs": [],
   "source": [
    "# Dropping the 'tagline' column from movies.csv\n",
    "movies = movies.drop(columns='tagline', axis=1)"
   ]
  },
  {
   "cell_type": "code",
   "execution_count": 21,
   "metadata": {},
   "outputs": [],
   "source": [
    "# Dropping the 'role' column and rows with NAN values from actors.csv\n",
    "actors = actors.drop(columns='role', axis=1)\n",
    "actors = actors.dropna()"
   ]
  },
  {
   "cell_type": "code",
   "execution_count": 22,
   "metadata": {},
   "outputs": [],
   "source": [
    "# Selecting crew members with specific roles, which are thought to be more significant to compress the amount of data\n",
    "crew = crew[crew['role'].isin(['Director', 'Producer', 'Writer', 'Cinematography', 'Composer'])]"
   ]
  },
  {
   "cell_type": "code",
   "execution_count": 23,
   "metadata": {},
   "outputs": [],
   "source": [
    "# Filtering the type of languages to be either 'Language' or 'Primary language' and dropping 'Spoken language'\n",
    "languages = languages[languages['type'].isin(['Language', 'Primary language'])].drop(columns='type')"
   ]
  },
  {
   "cell_type": "code",
   "execution_count": 24,
   "metadata": {},
   "outputs": [
    {
     "name": "stderr",
     "output_type": "stream",
     "text": [
      "/tmp/ipykernel_403453/1873594092.py:4: DeprecationWarning: DataFrameGroupBy.apply operated on the grouping columns. This behavior is deprecated, and in a future version of pandas the grouping columns will be excluded from the operation. Either pass `include_groups=False` to exclude the groupings or explicitly select the grouping columns after groupby to silence this warning.\n",
      "  .apply(lambda x: x.groupby('role')['name'].apply(list).to_dict())\n"
     ]
    }
   ],
   "source": [
    "# Creating dictionary for the crew, where keys are the roles and values are the names of people\n",
    "new_crew = (\n",
    "    crew.groupby('id')\n",
    "    .apply(lambda x: x.groupby('role')['name'].apply(list).to_dict())\n",
    "    .reset_index(name='crew_dict')\n",
    ")"
   ]
  },
  {
   "cell_type": "code",
   "execution_count": 25,
   "metadata": {},
   "outputs": [],
   "source": [
    "# Aggregating the genre types for each movie into a list\n",
    "new_genres = (\n",
    "    genres.groupby('id')['genre']\n",
    "    .apply(list)  # Aggregates genres into a list\n",
    "    .reset_index(name='genre_list')  # Converts to DataFrame and renames the column\n",
    ")"
   ]
  },
  {
   "cell_type": "code",
   "execution_count": 26,
   "metadata": {},
   "outputs": [],
   "source": [
    "# Aggregating the studios that worked on a single movie into a list\n",
    "new_studios = (\n",
    "    studios.groupby('id')['studio']\n",
    "    .apply(list)  # Aggregates the studios into a list\n",
    "    .reset_index(name='studio_list')  # Converts to DataFrame and renames the column\n",
    ")"
   ]
  },
  {
   "cell_type": "code",
   "execution_count": 27,
   "metadata": {},
   "outputs": [],
   "source": [
    "# Aggregating the actors for each movie in a list\n",
    "new_actors = (\n",
    "    actors.groupby('id')['name']\n",
    "    .apply(list)  # Aggregates actors' names into a list\n",
    "    .reset_index(name='actor_list')  # Converts to DataFrame and renames the column\n",
    ")"
   ]
  },
  {
   "cell_type": "code",
   "execution_count": 29,
   "metadata": {},
   "outputs": [],
   "source": [
    "# Merging all the dataframes created from the csv files from Dataset A:  https://www.kaggle.com/datasets/gsimonx37/letterboxd into one dataframe\n",
    "data = movies.merge(new_genres, how='left', on='id').merge(new_actors, how='left', on='id').merge(languages, how='left', on='id').merge(new_studios, how='left', on='id').merge(new_crew, how='left', on='id')"
   ]
  },
  {
   "cell_type": "code",
   "execution_count": null,
   "metadata": {},
   "outputs": [],
   "source": [
    "# Saving the new dataframe to a csv file\n",
    "data.to_csv('/home/rositsa/code/aybik/movie_picker/raw_data/compiled_movies.csv', index=False)"
   ]
  },
  {
   "cell_type": "code",
   "execution_count": 77,
   "metadata": {},
   "outputs": [
    {
     "data": {
      "text/plain": [
       "name\n",
       "Home                     143\n",
       "Untitled                 118\n",
       "Alone                    108\n",
       "Mother                    98\n",
       "Love                      76\n",
       "                        ... \n",
       "Almira                     1\n",
       "Precog                     1\n",
       "My Best Friend 'Ends'      1\n",
       "Forebodings                1\n",
       "A Pawn                     1\n",
       "Name: count, Length: 795421, dtype: int64"
      ]
     },
     "execution_count": 77,
     "metadata": {},
     "output_type": "execute_result"
    }
   ],
   "source": [
    "data.name.value_counts()"
   ]
  },
  {
   "cell_type": "code",
   "execution_count": 65,
   "metadata": {},
   "outputs": [
    {
     "data": {
      "text/html": [
       "<div>\n",
       "<style scoped>\n",
       "    .dataframe tbody tr th:only-of-type {\n",
       "        vertical-align: middle;\n",
       "    }\n",
       "\n",
       "    .dataframe tbody tr th {\n",
       "        vertical-align: top;\n",
       "    }\n",
       "\n",
       "    .dataframe thead th {\n",
       "        text-align: right;\n",
       "    }\n",
       "</style>\n",
       "<table border=\"1\" class=\"dataframe\">\n",
       "  <thead>\n",
       "    <tr style=\"text-align: right;\">\n",
       "      <th></th>\n",
       "      <th>film_id</th>\n",
       "      <th>film_name</th>\n",
       "      <th>year</th>\n",
       "    </tr>\n",
       "  </thead>\n",
       "  <tbody>\n",
       "    <tr>\n",
       "      <th>0</th>\n",
       "      <td>anthem-of-a-teenage-prophet</td>\n",
       "      <td>Anthem of a Teenage Prophet</td>\n",
       "      <td>2018.0</td>\n",
       "    </tr>\n",
       "    <tr>\n",
       "      <th>1</th>\n",
       "      <td>elf-buddys-musical-christmas</td>\n",
       "      <td>Elf: Buddy's Musical Christmas</td>\n",
       "      <td>2014.0</td>\n",
       "    </tr>\n",
       "    <tr>\n",
       "      <th>2</th>\n",
       "      <td>look-at-us-now-mother</td>\n",
       "      <td>Look at Us Now, Mother!</td>\n",
       "      <td>2016.0</td>\n",
       "    </tr>\n",
       "    <tr>\n",
       "      <th>3</th>\n",
       "      <td>fate-grand-order-absolute-demonic-front-babylonia</td>\n",
       "      <td>Fate/Grand Order Absolute Demonic Front: Babyl...</td>\n",
       "      <td>2019.0</td>\n",
       "    </tr>\n",
       "    <tr>\n",
       "      <th>4</th>\n",
       "      <td>memory-2022</td>\n",
       "      <td>Memory</td>\n",
       "      <td>2022.0</td>\n",
       "    </tr>\n",
       "    <tr>\n",
       "      <th>...</th>\n",
       "      <td>...</td>\n",
       "      <td>...</td>\n",
       "      <td>...</td>\n",
       "    </tr>\n",
       "    <tr>\n",
       "      <th>355109</th>\n",
       "      <td>zep-a-world-in-twelve-volumes-vol-1-the-depths...</td>\n",
       "      <td>Zēp: A World In Twelve Volumes, Vol 1-The Dept...</td>\n",
       "      <td>NaN</td>\n",
       "    </tr>\n",
       "    <tr>\n",
       "      <th>355110</th>\n",
       "      <td>zero-hour-2011</td>\n",
       "      <td>Zero Hour</td>\n",
       "      <td>2011.0</td>\n",
       "    </tr>\n",
       "    <tr>\n",
       "      <th>355111</th>\n",
       "      <td>zimmer-mit-tante</td>\n",
       "      <td>Zimmer mit Tante</td>\n",
       "      <td>2010.0</td>\n",
       "    </tr>\n",
       "    <tr>\n",
       "      <th>355112</th>\n",
       "      <td>zoe-2020</td>\n",
       "      <td>Zoe 2020</td>\n",
       "      <td>2018.0</td>\n",
       "    </tr>\n",
       "    <tr>\n",
       "      <th>355113</th>\n",
       "      <td>zuoz-schule-der-elite</td>\n",
       "      <td>Zuoz, Schule der elite</td>\n",
       "      <td>NaN</td>\n",
       "    </tr>\n",
       "  </tbody>\n",
       "</table>\n",
       "<p>355114 rows × 3 columns</p>\n",
       "</div>"
      ],
      "text/plain": [
       "                                                  film_id  \\\n",
       "0                             anthem-of-a-teenage-prophet   \n",
       "1                            elf-buddys-musical-christmas   \n",
       "2                                   look-at-us-now-mother   \n",
       "3       fate-grand-order-absolute-demonic-front-babylonia   \n",
       "4                                             memory-2022   \n",
       "...                                                   ...   \n",
       "355109  zep-a-world-in-twelve-volumes-vol-1-the-depths...   \n",
       "355110                                     zero-hour-2011   \n",
       "355111                                   zimmer-mit-tante   \n",
       "355112                                           zoe-2020   \n",
       "355113                              zuoz-schule-der-elite   \n",
       "\n",
       "                                                film_name    year  \n",
       "0                             Anthem of a Teenage Prophet  2018.0  \n",
       "1                          Elf: Buddy's Musical Christmas  2014.0  \n",
       "2                                 Look at Us Now, Mother!  2016.0  \n",
       "3       Fate/Grand Order Absolute Demonic Front: Babyl...  2019.0  \n",
       "4                                                  Memory  2022.0  \n",
       "...                                                   ...     ...  \n",
       "355109  Zēp: A World In Twelve Volumes, Vol 1-The Dept...     NaN  \n",
       "355110                                          Zero Hour  2011.0  \n",
       "355111                                   Zimmer mit Tante  2010.0  \n",
       "355112                                           Zoe 2020  2018.0  \n",
       "355113                             Zuoz, Schule der elite     NaN  \n",
       "\n",
       "[355114 rows x 3 columns]"
      ]
     },
     "execution_count": 65,
     "metadata": {},
     "output_type": "execute_result"
    }
   ],
   "source": [
    "films_new = films.drop(columns='poster_url')\n",
    "films_new"
   ]
  },
  {
   "cell_type": "code",
   "execution_count": 74,
   "metadata": {},
   "outputs": [
    {
     "data": {
      "text/plain": [
       "0                               Anthem of a Teenage Prophet\n",
       "1                            Elf: Buddy's Musical Christmas\n",
       "2                                   Look at Us Now, Mother!\n",
       "3         Fate/Grand Order Absolute Demonic Front: Babyl...\n",
       "4                                                    Memory\n",
       "                                ...                        \n",
       "355109    Zēp: A World In Twelve Volumes, Vol 1-The Dept...\n",
       "355110                                            Zero Hour\n",
       "355111                                     Zimmer mit Tante\n",
       "355112                                             Zoe 2020\n",
       "355113                               Zuoz, Schule der elite\n",
       "Name: film_name, Length: 355113, dtype: object"
      ]
     },
     "execution_count": 74,
     "metadata": {},
     "output_type": "execute_result"
    }
   ],
   "source": [
    "films_new.film_name.dropna()"
   ]
  },
  {
   "cell_type": "code",
   "execution_count": 75,
   "metadata": {},
   "outputs": [
    {
     "data": {
      "text/html": [
       "<div>\n",
       "<style scoped>\n",
       "    .dataframe tbody tr th:only-of-type {\n",
       "        vertical-align: middle;\n",
       "    }\n",
       "\n",
       "    .dataframe tbody tr th {\n",
       "        vertical-align: top;\n",
       "    }\n",
       "\n",
       "    .dataframe thead th {\n",
       "        text-align: right;\n",
       "    }\n",
       "</style>\n",
       "<table border=\"1\" class=\"dataframe\">\n",
       "  <thead>\n",
       "    <tr style=\"text-align: right;\">\n",
       "      <th></th>\n",
       "      <th>film_id</th>\n",
       "      <th>film_name</th>\n",
       "      <th>year</th>\n",
       "    </tr>\n",
       "  </thead>\n",
       "  <tbody>\n",
       "    <tr>\n",
       "      <th>355109</th>\n",
       "      <td>zep-a-world-in-twelve-volumes-vol-1-the-depths...</td>\n",
       "      <td>Zēp: A World In Twelve Volumes, Vol 1-The Dept...</td>\n",
       "      <td>NaN</td>\n",
       "    </tr>\n",
       "    <tr>\n",
       "      <th>355110</th>\n",
       "      <td>zero-hour-2011</td>\n",
       "      <td>Zero Hour</td>\n",
       "      <td>2011.0</td>\n",
       "    </tr>\n",
       "    <tr>\n",
       "      <th>355111</th>\n",
       "      <td>zimmer-mit-tante</td>\n",
       "      <td>Zimmer mit Tante</td>\n",
       "      <td>2010.0</td>\n",
       "    </tr>\n",
       "    <tr>\n",
       "      <th>355112</th>\n",
       "      <td>zoe-2020</td>\n",
       "      <td>Zoe 2020</td>\n",
       "      <td>2018.0</td>\n",
       "    </tr>\n",
       "    <tr>\n",
       "      <th>355113</th>\n",
       "      <td>zuoz-schule-der-elite</td>\n",
       "      <td>Zuoz, Schule der elite</td>\n",
       "      <td>NaN</td>\n",
       "    </tr>\n",
       "  </tbody>\n",
       "</table>\n",
       "</div>"
      ],
      "text/plain": [
       "                                                  film_id  \\\n",
       "355109  zep-a-world-in-twelve-volumes-vol-1-the-depths...   \n",
       "355110                                     zero-hour-2011   \n",
       "355111                                   zimmer-mit-tante   \n",
       "355112                                           zoe-2020   \n",
       "355113                              zuoz-schule-der-elite   \n",
       "\n",
       "                                                film_name    year  \n",
       "355109  Zēp: A World In Twelve Volumes, Vol 1-The Dept...     NaN  \n",
       "355110                                          Zero Hour  2011.0  \n",
       "355111                                   Zimmer mit Tante  2010.0  \n",
       "355112                                           Zoe 2020  2018.0  \n",
       "355113                             Zuoz, Schule der elite     NaN  "
      ]
     },
     "execution_count": 75,
     "metadata": {},
     "output_type": "execute_result"
    }
   ],
   "source": [
    "films_new.tail(5)"
   ]
  },
  {
   "cell_type": "code",
   "execution_count": 12,
   "metadata": {},
   "outputs": [
    {
     "data": {
      "text/html": [
       "<div>\n",
       "<style scoped>\n",
       "    .dataframe tbody tr th:only-of-type {\n",
       "        vertical-align: middle;\n",
       "    }\n",
       "\n",
       "    .dataframe tbody tr th {\n",
       "        vertical-align: top;\n",
       "    }\n",
       "\n",
       "    .dataframe thead th {\n",
       "        text-align: right;\n",
       "    }\n",
       "</style>\n",
       "<table border=\"1\" class=\"dataframe\">\n",
       "  <thead>\n",
       "    <tr style=\"text-align: right;\">\n",
       "      <th></th>\n",
       "      <th>user_name</th>\n",
       "      <th>film_id</th>\n",
       "      <th>rating</th>\n",
       "    </tr>\n",
       "  </thead>\n",
       "  <tbody>\n",
       "    <tr>\n",
       "      <th>0</th>\n",
       "      <td>kurstboy</td>\n",
       "      <td>spider-man-2</td>\n",
       "      <td>4.5</td>\n",
       "    </tr>\n",
       "    <tr>\n",
       "      <th>1</th>\n",
       "      <td>kurstboy</td>\n",
       "      <td>tetsuo-the-iron-man</td>\n",
       "      <td>4.0</td>\n",
       "    </tr>\n",
       "    <tr>\n",
       "      <th>2</th>\n",
       "      <td>kurstboy</td>\n",
       "      <td>bram-stokers-dracula</td>\n",
       "      <td>4.5</td>\n",
       "    </tr>\n",
       "    <tr>\n",
       "      <th>3</th>\n",
       "      <td>kurstboy</td>\n",
       "      <td>poison-2023</td>\n",
       "      <td>4.5</td>\n",
       "    </tr>\n",
       "    <tr>\n",
       "      <th>4</th>\n",
       "      <td>kurstboy</td>\n",
       "      <td>the-rat-catcher-2023</td>\n",
       "      <td>3.5</td>\n",
       "    </tr>\n",
       "  </tbody>\n",
       "</table>\n",
       "</div>"
      ],
      "text/plain": [
       "  user_name               film_id  rating\n",
       "0  kurstboy          spider-man-2     4.5\n",
       "1  kurstboy   tetsuo-the-iron-man     4.0\n",
       "2  kurstboy  bram-stokers-dracula     4.5\n",
       "3  kurstboy           poison-2023     4.5\n",
       "4  kurstboy  the-rat-catcher-2023     3.5"
      ]
     },
     "execution_count": 12,
     "metadata": {},
     "output_type": "execute_result"
    }
   ],
   "source": [
    "ratings.head()"
   ]
  },
  {
   "cell_type": "code",
   "execution_count": 13,
   "metadata": {},
   "outputs": [
    {
     "data": {
      "text/plain": [
       "355140"
      ]
     },
     "execution_count": 13,
     "metadata": {},
     "output_type": "execute_result"
    }
   ],
   "source": [
    "ratings.film_id.nunique()"
   ]
  },
  {
   "cell_type": "code",
   "execution_count": 14,
   "metadata": {},
   "outputs": [
    {
     "data": {
      "text/plain": [
       "np.int64(8)"
      ]
     },
     "execution_count": 14,
     "metadata": {},
     "output_type": "execute_result"
    }
   ],
   "source": [
    "ratings.film_id.isnull().sum()"
   ]
  },
  {
   "cell_type": "code",
   "execution_count": null,
   "metadata": {},
   "outputs": [],
   "source": []
  },
  {
   "cell_type": "code",
   "execution_count": null,
   "metadata": {},
   "outputs": [],
   "source": []
  },
  {
   "cell_type": "code",
   "execution_count": null,
   "metadata": {},
   "outputs": [],
   "source": []
  },
  {
   "cell_type": "code",
   "execution_count": null,
   "metadata": {},
   "outputs": [],
   "source": []
  }
 ],
 "metadata": {
  "kernelspec": {
   "display_name": "movie_picker",
   "language": "python",
   "name": "python3"
  },
  "language_info": {
   "codemirror_mode": {
    "name": "ipython",
    "version": 3
   },
   "file_extension": ".py",
   "mimetype": "text/x-python",
   "name": "python",
   "nbconvert_exporter": "python",
   "pygments_lexer": "ipython3",
   "version": "3.10.6"
  }
 },
 "nbformat": 4,
 "nbformat_minor": 2
}

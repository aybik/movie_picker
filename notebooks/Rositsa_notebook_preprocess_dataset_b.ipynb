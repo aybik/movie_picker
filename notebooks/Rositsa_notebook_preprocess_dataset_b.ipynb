{
 "cells": [
  {
   "cell_type": "code",
   "execution_count": 2,
   "metadata": {},
   "outputs": [],
   "source": [
    "import os\n",
    "import pandas as pd"
   ]
  },
  {
   "cell_type": "code",
   "execution_count": 3,
   "metadata": {},
   "outputs": [],
   "source": [
    "current_dir = os.getcwd() #current dir\n",
    "parent_dir = os.path.dirname(current_dir) #parent of current dir"
   ]
  },
  {
   "cell_type": "markdown",
   "metadata": {},
   "source": [
    "### DATASET B"
   ]
  },
  {
   "cell_type": "code",
   "execution_count": 4,
   "metadata": {},
   "outputs": [],
   "source": [
    "# Dataset B:  https://www.kaggle.com/datasets/freeth/letterboxd-film-ratings\n",
    "films = pd.read_csv(os.path.join(parent_dir,'raw_data/set_b/films.csv'), on_bad_lines='skip') # Skipping faulty lines that is some lines have more than the 4 values which are expected by the parser\n",
    "ratings = pd.read_csv(os.path.join(parent_dir,'raw_data/set_b/ratings.csv'))"
   ]
  },
  {
   "cell_type": "code",
   "execution_count": 5,
   "metadata": {},
   "outputs": [],
   "source": [
    "films_dataset_b = films.drop(columns='poster_url')\n",
    "films_dataset_b['year'] = pd.to_numeric(films_dataset_b['year'], errors='coerce').astype('Int64')\n",
    "films_dataset_b['key_a'] = films_dataset_b['film_name'] + films_dataset_b['year'].apply(\n",
    "    lambda x: f\" ({int(x)})\" if not pd.isna(x) else ''\n",
    "    )\n",
    "films_dataset_b = films_dataset_b.drop(columns='year')\n",
    "films_dataset_b = films_dataset_b.dropna(subset=['film_id', 'film_name', 'key_a'])"
   ]
  },
  {
   "cell_type": "code",
   "execution_count": 6,
   "metadata": {},
   "outputs": [],
   "source": [
    "ratings = ratings.dropna()"
   ]
  },
  {
   "cell_type": "code",
   "execution_count": 7,
   "metadata": {},
   "outputs": [],
   "source": [
    "merged_dataset_b = ratings.merge(films_dataset_b, how='left', on='film_id')\n",
    "merged_dataset_b = merged_dataset_b.dropna(subset='film_name')\n",
    "merged_dataset_b.drop(columns='film_id', inplace=True)"
   ]
  },
  {
   "cell_type": "code",
   "execution_count": 8,
   "metadata": {},
   "outputs": [],
   "source": [
    "clean_up_data = pd.read_csv(os.path.join(parent_dir,'clean_compile.csv'))"
   ]
  },
  {
   "cell_type": "code",
   "execution_count": 9,
   "metadata": {},
   "outputs": [],
   "source": [
    "# merged_dataset_b['key_a'] vs keyb\n",
    "unique_key_b_values = set(clean_up_data['key_b'].unique())\n",
    "unique_key_a_values =  set(merged_dataset_b['key_a'].unique())\n",
    "# merged_dataset_b[merged_dataset_b['key_a'].isin(unique_key_b_values)]\n",
    "common_values = unique_key_b_values.intersection(unique_key_a_values)\n",
    "is_common = {x:x in common_values for x in unique_key_a_values}\n"
   ]
  },
  {
   "cell_type": "code",
   "execution_count": 10,
   "metadata": {},
   "outputs": [],
   "source": [
    "merged_dataset_b = merged_dataset_b[merged_dataset_b['key_a'].map(is_common)]"
   ]
  },
  {
   "cell_type": "code",
   "execution_count": 11,
   "metadata": {},
   "outputs": [],
   "source": [
    "merged_dataset_b.to_csv(os.path.join(parent_dir,'clean_dataset_b.csv'), index=False)"
   ]
  },
  {
   "cell_type": "code",
   "execution_count": 12,
   "metadata": {},
   "outputs": [],
   "source": [
    "dataset_b = pd.read_csv(os.path.join(parent_dir,'clean_dataset_b.csv'))"
   ]
  }
 ],
 "metadata": {
  "kernelspec": {
   "display_name": "movie_picker",
   "language": "python",
   "name": "python3"
  },
  "language_info": {
   "codemirror_mode": {
    "name": "ipython",
    "version": 3
   },
   "file_extension": ".py",
   "mimetype": "text/x-python",
   "name": "python",
   "nbconvert_exporter": "python",
   "pygments_lexer": "ipython3",
   "version": "3.10.6"
  }
 },
 "nbformat": 4,
 "nbformat_minor": 2
}

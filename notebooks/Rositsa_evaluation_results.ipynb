{
 "cells": [
  {
   "cell_type": "code",
   "execution_count": 1,
   "metadata": {},
   "outputs": [],
   "source": [
    "import os\n",
    "import pickle\n",
    "\n",
    "import pandas as pd\n",
    "\n",
    "def save_pickle(my_obj, filepath):\n",
    "    if os.path.isfile(filepath):\n",
    "        print(f\"File {filepath} already exists. Doing nothing\")\n",
    "        return None\n",
    "    else:\n",
    "        with open(filepath, 'wb') as f:\n",
    "            pickle.dump(my_obj, f)\n",
    "\n",
    "\n",
    "def load_pickle(filepath):\n",
    "    if not os.path.isfile(filepath):\n",
    "        print(f\"File {filepath} does not exist.\")\n",
    "    else:\n",
    "        with open(filepath, 'rb') as f:\n",
    "            return pickle.load(f)"
   ]
  },
  {
   "cell_type": "code",
   "execution_count": 2,
   "metadata": {},
   "outputs": [],
   "source": [
    "knn_baseline_results = load_pickle('../artifacts/results_knn_baseline_top25k.pkl')"
   ]
  },
  {
   "cell_type": "code",
   "execution_count": 3,
   "metadata": {},
   "outputs": [],
   "source": [
    "svd_knn_results = load_pickle('../artifacts/results_svd_knn_top25k.pkl')"
   ]
  },
  {
   "cell_type": "code",
   "execution_count": 4,
   "metadata": {},
   "outputs": [],
   "source": [
    "nn_knn_results = load_pickle('../artifacts/results_nn_knn_top25k.pkl')"
   ]
  },
  {
   "cell_type": "code",
   "execution_count": 11,
   "metadata": {},
   "outputs": [
    {
     "data": {
      "text/plain": [
       "3.05"
      ]
     },
     "execution_count": 11,
     "metadata": {},
     "output_type": "execute_result"
    }
   ],
   "source": [
    "knn_baseline_score = round(pd.Series([knn_baseline_results[k][0] for k in knn_baseline_results.keys()]).describe()['mean'], 2)\n",
    "knn_baseline_score"
   ]
  },
  {
   "cell_type": "code",
   "execution_count": 9,
   "metadata": {},
   "outputs": [
    {
     "data": {
      "text/plain": [
       "3.5"
      ]
     },
     "execution_count": 9,
     "metadata": {},
     "output_type": "execute_result"
    }
   ],
   "source": [
    "svd_knn_score = round(pd.Series([svd_knn_results[k][0] for k in svd_knn_results.keys()]).describe()['mean'], 2)\n",
    "svd_knn_score"
   ]
  },
  {
   "cell_type": "code",
   "execution_count": 8,
   "metadata": {},
   "outputs": [
    {
     "data": {
      "text/plain": [
       "3.46"
      ]
     },
     "execution_count": 8,
     "metadata": {},
     "output_type": "execute_result"
    }
   ],
   "source": [
    "nn_knn_score = round(pd.Series([nn_knn_results[k][0] for k in nn_knn_results.keys()]).describe()['mean'], 2)\n",
    "nn_knn_score"
   ]
  }
 ],
 "metadata": {
  "kernelspec": {
   "display_name": "movie_picker",
   "language": "python",
   "name": "python3"
  },
  "language_info": {
   "codemirror_mode": {
    "name": "ipython",
    "version": 3
   },
   "file_extension": ".py",
   "mimetype": "text/x-python",
   "name": "python",
   "nbconvert_exporter": "python",
   "pygments_lexer": "ipython3",
   "version": "3.10.6"
  }
 },
 "nbformat": 4,
 "nbformat_minor": 2
}

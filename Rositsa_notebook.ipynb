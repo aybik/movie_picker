{
 "cells": [
  {
   "cell_type": "code",
   "execution_count": 3,
   "metadata": {},
   "outputs": [],
   "source": [
    "import pandas as pd\n",
    "\n",
    "movies = pd.read_csv('raw_data/movies.csv')\n",
    "actors = pd.read_csv('raw_data/actors.csv')\n",
    "crew = pd.read_csv('raw_data/crew.csv')\n",
    "languages = pd.read_csv('raw_data/languages.csv')\n",
    "genres = pd.read_csv('raw_data/genres.csv')\n",
    "studios = pd.read_csv('raw_data/studios.csv')\n",
    "countries = pd.read_csv('raw_data/countries.csv')\n",
    "\n",
    "movies = movies.drop(columns='tagline', axis=1)\n",
    "actors = actors.drop(columns='role', axis=1)\n",
    "actors = actors.dropna()\n",
    "crew = crew[crew['role'].isin(['Director', 'Producer', 'Writer', 'Casting', 'Editor', 'Cinematography', 'Composer', 'Songs'])]\n",
    "languages = languages[languages['type'].isin(['Language', 'Primary language'])]"
   ]
  }
 ],
 "metadata": {
  "kernelspec": {
   "display_name": "movie_picker",
   "language": "python",
   "name": "python3"
  },
  "language_info": {
   "codemirror_mode": {
    "name": "ipython",
    "version": 3
   },
   "file_extension": ".py",
   "mimetype": "text/x-python",
   "name": "python",
   "nbconvert_exporter": "python",
   "pygments_lexer": "ipython3",
   "version": "3.10.6"
  }
 },
 "nbformat": 4,
 "nbformat_minor": 2
}
